{
 "cells": [
  {
   "cell_type": "markdown",
   "id": "723e83cc-5560-45a2-90a9-4e6534c59360",
   "metadata": {},
   "source": [
    "# 기계학습기초 - 실습과제 1\n",
    "### e비즈니스학과 201823871 박지헌"
   ]
  },
  {
   "cell_type": "code",
   "execution_count": 1,
   "id": "68f613b9",
   "metadata": {},
   "outputs": [],
   "source": [
    "import sys\n",
    "import sklearn\n",
    "import numpy as np\n",
    "import pandas as pd "
   ]
  },
  {
   "cell_type": "code",
   "execution_count": 2,
   "id": "9af5d5a8",
   "metadata": {},
   "outputs": [
    {
     "name": "stdout",
     "output_type": "stream",
     "text": [
      "python version : 3.8.8 (default, Apr 13 2021, 15:08:03) [MSC v.1916 64 bit (AMD64)]\n",
      "sci-kit learn version : 0.24.1\n",
      "numpy version : 1.19.5\n",
      "pandas version : 1.2.4\n"
     ]
    }
   ],
   "source": [
    "print(f\"python version : {sys.version}\")\n",
    "print(f\"sci-kit learn version : {sklearn.__version__}\")\n",
    "print(f\"numpy version : {np.__version__}\")\n",
    "print(f\"pandas version : {pd.__version__}\")"
   ]
  }
 ],
 "metadata": {
  "kernelspec": {
   "display_name": "Python 3 (ipykernel)",
   "language": "python",
   "name": "python3"
  },
  "language_info": {
   "codemirror_mode": {
    "name": "ipython",
    "version": 3
   },
   "file_extension": ".py",
   "mimetype": "text/x-python",
   "name": "python",
   "nbconvert_exporter": "python",
   "pygments_lexer": "ipython3",
   "version": "3.8.8"
  }
 },
 "nbformat": 4,
 "nbformat_minor": 5
}
