{
 "cells": [
  {
   "cell_type": "markdown",
   "id": "1b7c4ffd-e593-4bfc-a7ee-c748107b5d74",
   "metadata": {
    "tags": []
   },
   "source": [
    "# 기계학습기초 - 실습과제 4\n",
    "# e비즈니스학과 201823871 박지헌"
   ]
  },
  {
   "cell_type": "code",
   "execution_count": 4,
   "id": "e1332018-647e-4fca-8250-3e471c33729b",
   "metadata": {
    "executionInfo": {
     "elapsed": 677,
     "status": "ok",
     "timestamp": 1649828418567,
     "user": {
      "displayName": "이병한",
      "userId": "17139807818283072330"
     },
     "user_tz": -540
    },
    "id": "pKNeHfHshiZ2"
   },
   "outputs": [],
   "source": [
    "import pandas as pd\n",
    "import numpy as np\n",
    "import matplotlib.pyplot as plt\n",
    "import seaborn as sns\n",
    "from matplotlib.colors import ListedColormap\n",
    "\n",
    "from sklearn import datasets\n",
    "from sklearn.model_selection import train_test_split\n",
    "from sklearn.metrics import accuracy_score\n",
    "from sklearn.neighbors import KNeighborsClassifier"
   ]
  },
  {
   "cell_type": "code",
   "execution_count": null,
   "id": "bae5632b-3ef2-4fb1-91a5-c57a861c3b0b",
   "metadata": {},
   "outputs": [],
   "source": [
    "from sklearn.preprocessing import StandardScaler\n",
    "from sklearn.pipeline import Pipeline"
   ]
  },
  {
   "cell_type": "code",
   "execution_count": 93,
   "id": "003ef128-1804-46ec-89ca-31dcd9f414c0",
   "metadata": {},
   "outputs": [],
   "source": [
    "import warnings\n",
    "warnings.filterwarnings('ignore')"
   ]
  },
  {
   "cell_type": "code",
   "execution_count": 1,
   "id": "11071a6a-5187-4430-8c0a-cc71e8e1ce2c",
   "metadata": {
    "executionInfo": {
     "elapsed": 447,
     "status": "ok",
     "timestamp": 1649772685991,
     "user": {
      "displayName": "이병한",
      "userId": "17139807818283072330"
     },
     "user_tz": -540
    },
    "id": "DFE7gb6s8ONU"
   },
   "outputs": [],
   "source": [
    "from sklearn.datasets import load_wine"
   ]
  },
  {
   "cell_type": "code",
   "execution_count": 2,
   "id": "2b9b3286-6354-41bd-abe1-cded0461309f",
   "metadata": {
    "executionInfo": {
     "elapsed": 459,
     "status": "ok",
     "timestamp": 1649772687624,
     "user": {
      "displayName": "이병한",
      "userId": "17139807818283072330"
     },
     "user_tz": -540
    },
    "id": "f2wwwnY5Diql"
   },
   "outputs": [],
   "source": [
    "data = load_wine(as_frame=True)"
   ]
  },
  {
   "cell_type": "markdown",
   "id": "13e458b2-1448-4cd3-a247-974e4553d72b",
   "metadata": {
    "id": "I3hX_nqzGN-u"
   },
   "source": [
    "# 1. k = 1일 때 항상 train dataset에 대한 accurcy를 제시하고 그 이유에 대해 설명하시오"
   ]
  },
  {
   "cell_type": "code",
   "execution_count": 5,
   "id": "2a0c5108-ac15-46c7-a8fb-9898a12acf5a",
   "metadata": {
    "executionInfo": {
     "elapsed": 2,
     "status": "ok",
     "timestamp": 1649772689453,
     "user": {
      "displayName": "이병한",
      "userId": "17139807818283072330"
     },
     "user_tz": -540
    },
    "id": "hk9nFImCHDLq"
   },
   "outputs": [],
   "source": [
    "X_train, X_test, y_train, y_test = train_test_split(data.data, data.target, test_size= 0.2, random_state = 42)"
   ]
  },
  {
   "cell_type": "code",
   "execution_count": 23,
   "id": "a4f5e81f-b023-4714-856d-4f24a244f749",
   "metadata": {
    "colab": {
     "base_uri": "https://localhost:8080/"
    },
    "executionInfo": {
     "elapsed": 265,
     "status": "ok",
     "timestamp": 1649828999158,
     "user": {
      "displayName": "이병한",
      "userId": "17139807818283072330"
     },
     "user_tz": -540
    },
    "id": "xa17CEwWiwZP",
    "outputId": "db6cd134-647b-4a66-bbff-d09ce8c1cff6"
   },
   "outputs": [
    {
     "name": "stdout",
     "output_type": "stream",
     "text": [
      "k = 1, train acc = 1.0\n",
      "k = 1, test acc = 0.8333333333333334\n"
     ]
    }
   ],
   "source": [
    "k = 1\n",
    "knn_clf = KNeighborsClassifier(weights='uniform', n_neighbors=k, metric = \"manhattan\")\n",
    "knn_clf.fit(X_train, y_train)\n",
    "\n",
    "y_train_pred = knn_clf.predict(X_train)\n",
    "y_test_pred = knn_clf.predict(X_test)\n",
    "\n",
    "\n",
    "print(f\"k = {k}, train acc = {accuracy_score(y_train, y_train_pred)}\")\n",
    "print(f\"k = {k}, test acc = {accuracy_score(y_test, y_test_pred)}\")"
   ]
  },
  {
   "cell_type": "markdown",
   "id": "9bf946f7-9ca2-42db-84d3-472ac817081f",
   "metadata": {},
   "source": [
    "* 최근접 1개의 이웃에게만 같은 값을 예측한다. 과적합이발생하였다."
   ]
  },
  {
   "cell_type": "markdown",
   "id": "6fa319d8-43a6-4ebe-b50d-738343439a94",
   "metadata": {
    "id": "hMZcU2ndGZri",
    "tags": []
   },
   "source": [
    "# 2. k = train dataset의 수와 동일할 때 Knn이 어떻게 예측하는지 정확도를 제시하고 그러한 이유에 대해서 설명하시오"
   ]
  },
  {
   "cell_type": "code",
   "execution_count": 20,
   "id": "385e3535-1c0f-4e11-9ac5-b991a196f365",
   "metadata": {
    "colab": {
     "base_uri": "https://localhost:8080/"
    },
    "executionInfo": {
     "elapsed": 265,
     "status": "ok",
     "timestamp": 1649828999158,
     "user": {
      "displayName": "이병한",
      "userId": "17139807818283072330"
     },
     "user_tz": -540
    },
    "id": "xa17CEwWiwZP",
    "outputId": "db6cd134-647b-4a66-bbff-d09ce8c1cff6"
   },
   "outputs": [
    {
     "name": "stdout",
     "output_type": "stream",
     "text": [
      "k = 142, train acc = 0.4014084507042254\n",
      "k = 142, test acc = 0.3888888888888889\n"
     ]
    }
   ],
   "source": [
    "k = len(X_train)\n",
    "knn_clf = KNeighborsClassifier(weights='uniform', n_neighbors=k, metric = \"manhattan\")\n",
    "knn_clf.fit(X_train, y_train)\n",
    "\n",
    "y_train_pred = knn_clf.predict(X_train)\n",
    "y_test_pred = knn_clf.predict(X_test)\n",
    "\n",
    "\n",
    "print(f\"k = {k}, train acc = {accuracy_score(y_train, y_train_pred)}\")\n",
    "print(f\"k = {k}, test acc = {accuracy_score(y_test, y_test_pred)}\")"
   ]
  },
  {
   "cell_type": "markdown",
   "id": "098eb834-2dbd-4316-b5b8-65fbb99c726e",
   "metadata": {},
   "source": [
    "* 최근접 이웃을 너무 큰 수를 줘 과소적합이 발생한다."
   ]
  },
  {
   "cell_type": "markdown",
   "id": "40d2ad9f-4983-456c-9795-2572053460dd",
   "metadata": {
    "id": "77eXhbcOH1Iu"
   },
   "source": [
    "# 3. Cross validation을 활용하여 1 ~ 50 까지 k에 대한 train dataset의 정확도의 변화를 그래프로 시각화하시오 (Cross validation은 5로 고정) "
   ]
  },
  {
   "cell_type": "code",
   "execution_count": 32,
   "id": "a074c27a-863f-4c09-9cee-125e34662b14",
   "metadata": {
    "executionInfo": {
     "elapsed": 819,
     "status": "ok",
     "timestamp": 1649829308175,
     "user": {
      "displayName": "이병한",
      "userId": "17139807818283072330"
     },
     "user_tz": -540
    },
    "id": "fk5jy3FG6e7f"
   },
   "outputs": [],
   "source": [
    "acc = []\n",
    "for k in range(1, 51):\n",
    "  knn_clf = KNeighborsClassifier(weights='uniform', n_neighbors= k)\n",
    "  score = cross_val_score(knn_clf, X_train, y_train, cv=5)\n",
    "  acc.append(score.mean())"
   ]
  },
  {
   "cell_type": "code",
   "execution_count": 33,
   "id": "aeaa8a42-d3af-44b4-ab6f-ea78f4def502",
   "metadata": {
    "colab": {
     "base_uri": "https://localhost:8080/",
     "height": 415
    },
    "executionInfo": {
     "elapsed": 1348,
     "status": "ok",
     "timestamp": 1649829325819,
     "user": {
      "displayName": "이병한",
      "userId": "17139807818283072330"
     },
     "user_tz": -540
    },
    "id": "qqGX9aYy6sPl",
    "outputId": "a2f438f1-d527-46ea-ee2c-90648f0258f7"
   },
   "outputs": [
    {
     "data": {
      "text/plain": [
       "Text(0.5, 1.0, 'train acc')"
      ]
     },
     "execution_count": 33,
     "metadata": {},
     "output_type": "execute_result"
    },
    {
     "data": {
      "image/png": "[encoded data removed]",
      "text/plain": [
       "<Figure size 864x432 with 1 Axes>"
      ]
     },
     "metadata": {
      "needs_background": "light"
     },
     "output_type": "display_data"
    }
   ],
   "source": [
    "plt.figure(figsize=(12,6))\n",
    "sns.lineplot(x = range(1,51), y = acc)\n",
    "plt.xlabel(\"k\",fontsize = 20)\n",
    "plt.ylabel(\"acc\", fontsize = 20)\n",
    "plt.title('train acc')"
   ]
  },
  {
   "cell_type": "markdown",
   "id": "41648502-e990-4e37-b861-c68890656dd5",
   "metadata": {
    "id": "v9hViF5YIU_A",
    "tags": []
   },
   "source": [
    "# 4. 다양하게 하이퍼 파라미터와 scaler 등을 조절하여 최고의 성능을 제시하시오. (Cross validation의 수는 5로 고정) , 하이퍼파라미터와 test set에 대한 정확도 제시\n",
    "\n"
   ]
  },
  {
   "cell_type": "code",
   "execution_count": 259,
   "id": "8eee3e34-9dd2-4ada-91be-b6170d36fa52",
   "metadata": {
    "executionInfo": {
     "elapsed": 2565,
     "status": "ok",
     "timestamp": 1649829515468,
     "user": {
      "displayName": "이병한",
      "userId": "17139807818283072330"
     },
     "user_tz": -540
    },
    "id": "if4cmOoW66Vk"
   },
   "outputs": [
    {
     "data": {
      "text/plain": [
       "Text(0, 0.5, 'acc')"
      ]
     },
     "execution_count": 259,
     "metadata": {},
     "output_type": "execute_result"
    },
    {
     "data": {
      "image/png": "[encoded data removed]",
      "text/plain": [
       "<Figure size 864x432 with 1 Axes>"
      ]
     },
     "metadata": {
      "needs_background": "light"
     },
     "output_type": "display_data"
    }
   ],
   "source": [
    "acc = []\n",
    "for k in range(1, 100):\n",
    "    std_scaler = StandardScaler()\n",
    "    knn_clf = KNeighborsClassifier(weights='uniform', n_neighbors= k)\n",
    "    Knn_pipe = Pipeline([\n",
    "        (\"std_scaler\", std_scaler),\n",
    "        (\"knn\", knn_clf),\n",
    "    ])\n",
    "    score = cross_val_score(Knn_pipe, X_train, y_train, cv=5)\n",
    "    acc.append(score.mean())\n",
    "\n",
    "plt.figure(figsize=(12,6))\n",
    "sns.lineplot(x = range(1,100), y = acc)\n",
    "plt.xlabel(\"k\",fontsize = 20)\n",
    "plt.ylabel(\"acc\", fontsize = 20)"
   ]
  },
  {
   "cell_type": "code",
   "execution_count": 272,
   "id": "3b834a5e-03dd-42cc-8fcf-7238178cd34d",
   "metadata": {
    "executionInfo": {
     "elapsed": 409,
     "status": "ok",
     "timestamp": 1649829364808,
     "user": {
      "displayName": "이병한",
      "userId": "17139807818283072330"
     },
     "user_tz": -540
    },
    "id": "7aDzTUGzQmLg"
   },
   "outputs": [
    {
     "data": {
      "text/plain": [
       "<AxesSubplot:>"
      ]
     },
     "execution_count": 272,
     "metadata": {},
     "output_type": "execute_result"
    },
    {
     "data": {
      "image/png": "[encoded data removed]",
      "text/plain": [
       "<Figure size 864x432 with 1 Axes>"
      ]
     },
     "metadata": {
      "needs_background": "light"
     },
     "output_type": "display_data"
    }
   ],
   "source": [
    "acc = []\n",
    "scaler = StandardScaler()\n",
    "scaler.fit(X_train)\n",
    "X_train_scaled = scaler.transform(X_train)\n",
    "X_test_scaled = scaler.transform(X_test)\n",
    "\n",
    "for k in range(1, 50):\n",
    "  knn_clf = KNeighborsClassifier(weights='uniform', n_neighbors= k)\n",
    "  knn_clf.fit(X_train_scaled,y_train)\n",
    "  acc.append(knn_clf.score(X_test_scaled, y_test))\n",
    "\n",
    "plt.figure(figsize=(12,6))\n",
    "sns.lineplot(x = range(1,50), y = acc)"
   ]
  },
  {
   "cell_type": "code",
   "execution_count": 267,
   "id": "126e5b03-fb88-4625-bc15-fd01854d42dc",
   "metadata": {},
   "outputs": [
    {
     "data": {
      "text/plain": [
       "1.0"
      ]
     },
     "execution_count": 267,
     "metadata": {},
     "output_type": "execute_result"
    }
   ],
   "source": [
    "knn_clf = KNeighborsClassifier(weights='uniform', n_neighbors= 28, metric = 'minkowski')\n",
    "knn_clf.fit(X_train_scaled,y_train)\n",
    "knn_clf.score(X_test_scaled, y_test)"
   ]
  },
  {
   "cell_type": "code",
   "execution_count": 275,
   "id": "2a8f3a75-7e11-43e7-b8c9-6b85d7538381",
   "metadata": {
    "colab": {
     "base_uri": "https://localhost:8080/"
    },
    "executionInfo": {
     "elapsed": 265,
     "status": "ok",
     "timestamp": 1649828999158,
     "user": {
      "displayName": "이병한",
      "userId": "17139807818283072330"
     },
     "user_tz": -540
    },
    "id": "xa17CEwWiwZP",
    "outputId": "db6cd134-647b-4a66-bbff-d09ce8c1cff6"
   },
   "outputs": [
    {
     "name": "stdout",
     "output_type": "stream",
     "text": [
      "w = uniform, m = minkowski, k = 40, train acc = 0.971830985915493\n",
      "w = uniform, m = minkowski, k = 40, test acc = 0.9166666666666666\n"
     ]
    }
   ],
   "source": [
    "k = 40\n",
    "m = 'minkowski'\n",
    "w = 'uniform'\n",
    "\n",
    "knn_clf = KNeighborsClassifier(weights='uniform', n_neighbors=k, metric = \"manhattan\")\n",
    "knn_clf.fit(X_train_scaled, y_train)\n",
    "\n",
    "y_train_pred = knn_clf.predict(X_train_scaled)\n",
    "y_test_pred = knn_clf.predict(X_test_scaled)\n",
    "\n",
    "\n",
    "print(f\"w = {w}, m = {m}, k = {k}, train acc = {accuracy_score(y_train, y_train_pred)}\")\n",
    "print(f\"w = {w}, m = {m}, k = {k}, test acc = {accuracy_score(y_test, y_test_pred)}\")"
   ]
  },
  {
   "cell_type": "markdown",
   "id": "3c85652a-a834-44fb-a131-0c1026a4dada",
   "metadata": {},
   "source": [
    "---\n",
    "## 다른 방식\n",
    "* 하이퍼 파라미터 w, m, k의 조합 100가지 \n",
    "> w(uniform, distance), m(minkowski, mahatten), k(1~50 홀수)\n",
    "\n",
    "* 하이퍼 파라미터와 정확도의 정확한 제시를 위해 데이터 프레임에 정리할 것 입니다.\n",
    "\n",
    "* weights, metric, k값 모든 경우의 수를 살펴 최적의 파라미터값을 찾기위해 리스트에 담은 후 반복문 사용\n",
    "* 빈 데이터 프레임을 만들어 하이퍼 파라미터와 정확도를 한 행씩 추가하였습니다.\n",
    "* k의 값은 홀수만 사용하였습니다."
   ]
  },
  {
   "cell_type": "code",
   "execution_count": 250,
   "id": "eccaee27-fc5b-40d0-9d3a-0cc74292eab3",
   "metadata": {},
   "outputs": [],
   "source": [
    "metricList = ['minkowski', 'manhattan']\n",
    "weightsList = ['uniform', 'distance']\n",
    "kList = []\n",
    "for i in range(1,50): #홀수만\n",
    "    if(i%2 == 1):\n",
    "        kList.append(i)"
   ]
  },
  {
   "cell_type": "code",
   "execution_count": 251,
   "id": "5a698409-0015-46eb-b717-426581c2a701",
   "metadata": {
    "executionInfo": {
     "elapsed": 409,
     "status": "ok",
     "timestamp": 1649829364808,
     "user": {
      "displayName": "이병한",
      "userId": "17139807818283072330"
     },
     "user_tz": -540
    },
    "id": "7aDzTUGzQmLg"
   },
   "outputs": [],
   "source": [
    "scaled_noncv_acc = pd.DataFrame(columns=['weights', 'metrics', 'k', 'score'])\n",
    "\n",
    "scaler = StandardScaler()\n",
    "scaler.fit(X_train)\n",
    "X_train_scaled = scaler.transform(X_train)\n",
    "X_test_scaled = scaler.transform(X_test)\n",
    "\n",
    "for w in weightsList:\n",
    "    for m in metricList:\n",
    "        for k in kList:\n",
    "            knn_clf = KNeighborsClassifier(weights = w, n_neighbors= k, metric = m)\n",
    "            knn_clf.fit(X_train_scaled,y_train)\n",
    "            y_test_pred = knn_clf.predict(X_test_scaled)\n",
    "            scaled_noncv_acc = scaled_noncv_acc.append(pd.DataFrame([[w, m, k, accuracy_score(y_test, y_test_pred)]],\n",
    "                                              columns=['weights', 'metrics', 'k', 'score']))           "
   ]
  },
  {
   "cell_type": "code",
   "execution_count": 252,
   "id": "10c46b4d-e61b-4d33-9711-40bc9db1fcef",
   "metadata": {},
   "outputs": [
    {
     "data": {
      "text/html": [
       "<div>\n",
       "<style scoped>\n",
       "    .dataframe tbody tr th:only-of-type {\n",
       "        vertical-align: middle;\n",
       "    }\n",
       "\n",
       "    .dataframe tbody tr th {\n",
       "        vertical-align: top;\n",
       "    }\n",
       "\n",
       "    .dataframe thead th {\n",
       "        text-align: right;\n",
       "    }\n",
       "</style>\n",
       "<table border=\"1\" class=\"dataframe\">\n",
       "  <thead>\n",
       "    <tr style=\"text-align: right;\">\n",
       "      <th></th>\n",
       "      <th>weights</th>\n",
       "      <th>metrics</th>\n",
       "      <th>k</th>\n",
       "      <th>score</th>\n",
       "    </tr>\n",
       "  </thead>\n",
       "  <tbody>\n",
       "    <tr>\n",
       "      <th>0</th>\n",
       "      <td>uniform</td>\n",
       "      <td>minkowski</td>\n",
       "      <td>29</td>\n",
       "      <td>1.0</td>\n",
       "    </tr>\n",
       "    <tr>\n",
       "      <th>0</th>\n",
       "      <td>uniform</td>\n",
       "      <td>minkowski</td>\n",
       "      <td>33</td>\n",
       "      <td>1.0</td>\n",
       "    </tr>\n",
       "    <tr>\n",
       "      <th>0</th>\n",
       "      <td>uniform</td>\n",
       "      <td>minkowski</td>\n",
       "      <td>35</td>\n",
       "      <td>1.0</td>\n",
       "    </tr>\n",
       "    <tr>\n",
       "      <th>0</th>\n",
       "      <td>uniform</td>\n",
       "      <td>minkowski</td>\n",
       "      <td>37</td>\n",
       "      <td>1.0</td>\n",
       "    </tr>\n",
       "    <tr>\n",
       "      <th>0</th>\n",
       "      <td>uniform</td>\n",
       "      <td>minkowski</td>\n",
       "      <td>39</td>\n",
       "      <td>1.0</td>\n",
       "    </tr>\n",
       "    <tr>\n",
       "      <th>0</th>\n",
       "      <td>uniform</td>\n",
       "      <td>minkowski</td>\n",
       "      <td>41</td>\n",
       "      <td>1.0</td>\n",
       "    </tr>\n",
       "    <tr>\n",
       "      <th>0</th>\n",
       "      <td>uniform</td>\n",
       "      <td>minkowski</td>\n",
       "      <td>43</td>\n",
       "      <td>1.0</td>\n",
       "    </tr>\n",
       "    <tr>\n",
       "      <th>0</th>\n",
       "      <td>uniform</td>\n",
       "      <td>minkowski</td>\n",
       "      <td>45</td>\n",
       "      <td>1.0</td>\n",
       "    </tr>\n",
       "    <tr>\n",
       "      <th>0</th>\n",
       "      <td>uniform</td>\n",
       "      <td>minkowski</td>\n",
       "      <td>47</td>\n",
       "      <td>1.0</td>\n",
       "    </tr>\n",
       "    <tr>\n",
       "      <th>0</th>\n",
       "      <td>distance</td>\n",
       "      <td>minkowski</td>\n",
       "      <td>29</td>\n",
       "      <td>1.0</td>\n",
       "    </tr>\n",
       "    <tr>\n",
       "      <th>0</th>\n",
       "      <td>distance</td>\n",
       "      <td>minkowski</td>\n",
       "      <td>33</td>\n",
       "      <td>1.0</td>\n",
       "    </tr>\n",
       "    <tr>\n",
       "      <th>0</th>\n",
       "      <td>distance</td>\n",
       "      <td>minkowski</td>\n",
       "      <td>35</td>\n",
       "      <td>1.0</td>\n",
       "    </tr>\n",
       "    <tr>\n",
       "      <th>0</th>\n",
       "      <td>distance</td>\n",
       "      <td>minkowski</td>\n",
       "      <td>37</td>\n",
       "      <td>1.0</td>\n",
       "    </tr>\n",
       "    <tr>\n",
       "      <th>0</th>\n",
       "      <td>distance</td>\n",
       "      <td>minkowski</td>\n",
       "      <td>39</td>\n",
       "      <td>1.0</td>\n",
       "    </tr>\n",
       "  </tbody>\n",
       "</table>\n",
       "</div>"
      ],
      "text/plain": [
       "    weights    metrics   k score\n",
       "0   uniform  minkowski  29   1.0\n",
       "0   uniform  minkowski  33   1.0\n",
       "0   uniform  minkowski  35   1.0\n",
       "0   uniform  minkowski  37   1.0\n",
       "0   uniform  minkowski  39   1.0\n",
       "0   uniform  minkowski  41   1.0\n",
       "0   uniform  minkowski  43   1.0\n",
       "0   uniform  minkowski  45   1.0\n",
       "0   uniform  minkowski  47   1.0\n",
       "0  distance  minkowski  29   1.0\n",
       "0  distance  minkowski  33   1.0\n",
       "0  distance  minkowski  35   1.0\n",
       "0  distance  minkowski  37   1.0\n",
       "0  distance  minkowski  39   1.0"
      ]
     },
     "execution_count": 252,
     "metadata": {},
     "output_type": "execute_result"
    }
   ],
   "source": [
    "scaled_noncv_acc[scaled_noncv_acc['score'] == max(scaled_noncv_acc['score'])]"
   ]
  },
  {
   "cell_type": "markdown",
   "id": "bfedd219-0605-488b-b7ba-6269bdba6c0a",
   "metadata": {},
   "source": [
    "* 스케일 후, Cross Validation을 사용하지 않고 찾은 최적의 하이퍼 파라미터값입니다  \n",
    "\n",
    "* 데이터 프레임의 score가 테스트셋의 정확도입니다."
   ]
  }
 ],
 "metadata": {
  "kernelspec": {
   "display_name": "Python 3 (ipykernel)",
   "language": "python",
   "name": "python3"
  },
  "language_info": {
   "codemirror_mode": {
    "name": "ipython",
    "version": 3
   },
   "file_extension": ".py",
   "mimetype": "text/x-python",
   "name": "python",
   "nbconvert_exporter": "python",
   "pygments_lexer": "ipython3",
   "version": "3.8.8"
  }
 },
 "nbformat": 4,
 "nbformat_minor": 5
}
