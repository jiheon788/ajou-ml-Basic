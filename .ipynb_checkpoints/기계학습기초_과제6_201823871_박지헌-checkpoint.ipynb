{
 "cells": [
  {
   "cell_type": "markdown",
   "id": "732c274c-26bd-42ab-84fb-60a220aacbfc",
   "metadata": {
    "tags": []
   },
   "source": [
    "# 기계학습기초 - 실습과제 6\n",
    "# e비즈니스학과 201823871 박지헌"
   ]
  },
  {
   "cell_type": "markdown",
   "id": "5145ea0b-4f5c-40a9-b646-cac0167c8fb3",
   "metadata": {
    "id": "3UAjIo6RR81U"
   },
   "source": [
    "breast cancer data를 이용하여 다음 모델을 사용하여 분류작업을 수행합니다.\n",
    "- 가우시안 나이브 베이즈\n",
    "- 결정트리 (혹은 자신이 사용하는 모델을 사용해도 좋습니다.)\n",
    "\n",
    "모델에 대한 ROC Curve 그래프와 AUC값을 표현하세요.\n",
    "그리고 모델들의 그래프를 비교하여 개인의 생각을 설명하세요."
   ]
  },
  {
   "cell_type": "code",
   "execution_count": 97,
   "id": "ee074b2d-f032-46a2-b510-ab52961697aa",
   "metadata": {
    "executionInfo": {
     "elapsed": 939,
     "status": "ok",
     "timestamp": 1653666420280,
     "user": {
      "displayName": "이병한",
      "userId": "17139807818283072330"
     },
     "user_tz": -540
    },
    "id": "W5bMBcZcgRZ4"
   },
   "outputs": [
    {
     "name": "stdout",
     "output_type": "stream",
     "text": [
      "1    357\n",
      "0    212\n",
      "Name: target, dtype: int64\n"
     ]
    },
    {
     "data": {
      "image/png": "[encoded data removed]",
      "text/plain": [
       "<Figure size 360x360 with 1 Axes>"
      ]
     },
     "metadata": {
      "needs_background": "light"
     },
     "output_type": "display_data"
    }
   ],
   "source": [
    "from sklearn.model_selection import train_test_split\n",
    "from sklearn.naive_bayes import GaussianNB\n",
    "import numpy as np\n",
    "import pandas as pd\n",
    "import matplotlib.pyplot as plt\n",
    "import matplotlib\n",
    "%matplotlib inline\n",
    "import warnings\n",
    "warnings.filterwarnings('ignore')\n",
    "from sklearn.tree import DecisionTreeClassifier\n",
    "import seaborn as sns\n",
    "from sklearn.metrics import roc_curve, auc\n",
    "\n",
    "from sklearn import preprocessing\n",
    "from sklearn.metrics import accuracy_score, f1_score\n",
    "\n",
    "from sklearn.metrics import confusion_matrix\n",
    "\n",
    "from sklearn.datasets import load_breast_cancer\n",
    "dataset = load_breast_cancer(as_frame=True)\n",
    "# print(dataset.DESCR)\n",
    "\n",
    "df = dataset.frame\n",
    "\n",
    "print(df['target'].value_counts())\n",
    "\n",
    "plt.rcParams['figure.figsize']=[5,5]\n",
    "sns.countplot(x='target', data = df)\n",
    "plt.show()"
   ]
  },
  {
   "cell_type": "code",
   "execution_count": 48,
   "id": "5858a930-f0c3-45b3-b38e-6910753810d6",
   "metadata": {},
   "outputs": [],
   "source": [
    "X= df.drop('target',axis=1)\n",
    "y= df['target']\n",
    "\n",
    "X_train, X_test, y_train, y_test = train_test_split(X, y, test_size=0.2, random_state = 11)  # Split 실행\n",
    "\n",
    "scaler = preprocessing.MinMaxScaler()\n",
    "scaler.fit(X_train)\n",
    "X_train_scaled = scaler.transform(X_train)\n",
    "X_test_scaled = scaler.transform(X_test)"
   ]
  },
  {
   "cell_type": "markdown",
   "id": "bb801a0e-051b-4217-a702-9ed0992e93db",
   "metadata": {},
   "source": [
    "### GaussianNB"
   ]
  },
  {
   "cell_type": "code",
   "execution_count": 57,
   "id": "08335d18-1223-47e8-8a1c-e5385fc0b20a",
   "metadata": {
    "colab": {
     "base_uri": "https://localhost:8080/"
    },
    "executionInfo": {
     "elapsed": 296,
     "status": "ok",
     "timestamp": 1653668787501,
     "user": {
      "displayName": "이병한",
      "userId": "17139807818283072330"
     },
     "user_tz": -540
    },
    "id": "Ia9Ih0Zu7MpX",
    "outputId": "46b88ecb-1bcb-48ff-81cd-b98eed5a3dc7"
   },
   "outputs": [
    {
     "name": "stdout",
     "output_type": "stream",
     "text": [
      "acc = 0.94\n",
      "f1 = 0.95\n",
      "\n",
      "[[33  5]\n",
      " [ 2 74]]\n"
     ]
    }
   ],
   "source": [
    "model = GaussianNB() \n",
    "model.fit(X_train_scaled, y_train)\n",
    "\n",
    "pred_test = model.predict(X_test_scaled)\n",
    "\n",
    "\n",
    "print(f\"acc = {accuracy_score(y_test, pred_test):.2f}\")\n",
    "print(f\"f1 = {f1_score(y_test, pred_test):.2f}\\n\")\n",
    "\n",
    "print(confusion_matrix(y_test, pred_test))"
   ]
  },
  {
   "cell_type": "markdown",
   "id": "d0ba1013-31ba-4398-b200-5bcf93400a88",
   "metadata": {
    "tags": []
   },
   "source": [
    "### DecisionTreeClassifier"
   ]
  },
  {
   "cell_type": "code",
   "execution_count": 58,
   "id": "203cdbf6-1809-4a98-9561-d22f51fef7ae",
   "metadata": {},
   "outputs": [
    {
     "name": "stdout",
     "output_type": "stream",
     "text": [
      "acc = 0.94\n",
      "f1 = 0.95\n",
      "\n",
      "[[33  5]\n",
      " [ 2 74]]\n"
     ]
    }
   ],
   "source": [
    "model2 = DecisionTreeClassifier()\n",
    "model2.fit(X_train_scaled,y_train)\n",
    "pred_test = model.predict(X_test_scaled)\n",
    "\n",
    "\n",
    "print(f\"acc = {accuracy_score(y_test, pred_test):.2f}\")\n",
    "print(f\"f1 = {f1_score(y_test, pred_test):.2f}\\n\")\n",
    "\n",
    "print(confusion_matrix(y_test, pred_test))"
   ]
  },
  {
   "cell_type": "markdown",
   "id": "38d6d704-6772-4f42-a621-e8b3af27793f",
   "metadata": {
    "tags": []
   },
   "source": [
    "### ROC & AUC"
   ]
  },
  {
   "cell_type": "code",
   "execution_count": 104,
   "id": "415c92e0-dea9-42cf-a41c-4e75e2a9cd09",
   "metadata": {
    "executionInfo": {
     "elapsed": 314,
     "status": "ok",
     "timestamp": 1653669558650,
     "user": {
      "displayName": "이병한",
      "userId": "17139807818283072330"
     },
     "user_tz": -540
    },
    "id": "zNy8Ik7nBYyC"
   },
   "outputs": [
    {
     "data": {
      "image/png": "[encoded data removed]",
      "text/plain": [
       "<Figure size 360x360 with 1 Axes>"
      ]
     },
     "metadata": {
      "needs_background": "light"
     },
     "output_type": "display_data"
    },
    {
     "name": "stdout",
     "output_type": "stream",
     "text": [
      "\n",
      "model1 - 가우시안 나이브 베이즈 AUC: 0.99\n",
      "model2 - 결정트리 AUC: 0.97\n"
     ]
    }
   ],
   "source": [
    "fpr, tpr, thresholds = roc_curve(y_test, model.predict_proba(X_test_scaled)[:,1])\n",
    "roc_auc = auc(fpr, tpr);\n",
    "\n",
    "fpr2, tpr2, thresholds2 = roc_curve(y_test, model2.predict_proba(X_test_scaled)[:,1])\n",
    "roc_auc2 = auc(fpr2, tpr2);\n",
    "\n",
    "plt.rcParams['figure.figsize']=[5,5]\n",
    "plt.figure()\n",
    "lw = 2\n",
    "\n",
    "plt.plot(\n",
    "    fpr,\n",
    "    tpr,\n",
    "    lw=lw,\n",
    "    label=\"1 ROC curve (area = %0.3f)\" % roc_auc,\n",
    ")\n",
    "\n",
    "plt.plot(\n",
    "    fpr2,\n",
    "    tpr2,\n",
    "    lw=lw,\n",
    "    label=\"2 ROC curve (area = %0.3f)\" % roc_auc2,\n",
    ")\n",
    "plt.plot([0, 1], [0, 1], color=\"gray\", lw=lw, linestyle=\"--\")\n",
    "plt.xlim([0.0, 1.0])\n",
    "plt.ylim([0.0, 1.05])\n",
    "plt.xlabel(\"False Positive Rate\")\n",
    "plt.ylabel(\"True Positive Rate\")\n",
    "plt.title(\"ROC\")\n",
    "plt.legend(loc=\"lower right\")\n",
    "plt.show()\n",
    "\n",
    "print(f\"\\nmodel1 - 가우시안 나이브 베이즈 AUC: {roc_auc:.2f}\")\n",
    "print(f\"model2 - 결정트리 AUC: {roc_auc2:.2f}\")"
   ]
  },
  {
   "cell_type": "markdown",
   "id": "12f4a360-b613-4151-a691-cdf470766c3d",
   "metadata": {},
   "source": [
    "가우시안 나이브 베이즈 모델과 결정 트리 두 모델에서 정확도와 f1score는 동일하게 나왔다.\n",
    "그러나 ROC Curve를 시각화하였을 때, 나이브베이즈 모델의 최적점(0,1)에 가깝다. AUC값 또한 나이브베이즈 모델이 높으므로 좀 더 높은 성능을 가진 모델임을 시사한다."
   ]
  }
 ],
 "metadata": {
  "kernelspec": {
   "display_name": "Python 3 (ipykernel)",
   "language": "python",
   "name": "python3"
  },
  "language_info": {
   "codemirror_mode": {
    "name": "ipython",
    "version": 3
   },
   "file_extension": ".py",
   "mimetype": "text/x-python",
   "name": "python",
   "nbconvert_exporter": "python",
   "pygments_lexer": "ipython3",
   "version": "3.8.8"
  }
 },
 "nbformat": 4,
 "nbformat_minor": 5
}
