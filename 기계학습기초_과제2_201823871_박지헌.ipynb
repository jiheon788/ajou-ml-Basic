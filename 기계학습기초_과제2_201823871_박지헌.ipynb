{
 "cells": [
  {
   "cell_type": "markdown",
   "metadata": {
    "jp-MarkdownHeadingCollapsed": true,
    "tags": []
   },
   "source": [
    "# 기계학습기초 - 실습과제 2\n",
    "# e비즈니스학과 201823871 박지헌"
   ]
  },
  {
   "cell_type": "markdown",
   "metadata": {
    "id": "uWFb6FpOiy37",
    "jp-MarkdownHeadingCollapsed": true,
    "tags": []
   },
   "source": [
    "# assignment\n",
    "\n",
    "### DT를 학습시켜 DT graph를 시각화하고 test set에 대한 정확도를 출력하시오\n",
    "### 그리고 가장 중요한 feature를 2가지를 선택해서 다시 DT classifier를 학습시키시오.\n",
    "### 이후  decision boundary를 시각화 하시오.\n"
   ]
  },
  {
   "cell_type": "markdown",
   "metadata": {
    "id": "0aV36zGvJDhl",
    "tags": []
   },
   "source": [
    "# import lib"
   ]
  },
  {
   "cell_type": "code",
   "execution_count": 1,
   "metadata": {
    "id": "WHZOEFnHB470"
   },
   "outputs": [],
   "source": [
    "import numpy as np\n",
    "import os\n",
    "import seaborn as sns\n",
    "import pandas as pd\n",
    "from graphviz import Source\n",
    "from sklearn.tree import export_graphviz\n",
    "from sklearn.model_selection import train_test_split\n",
    "from sklearn.metrics import accuracy_score\n",
    "from sklearn.tree import DecisionTreeClassifier\n",
    "import warnings\n",
    "warnings.filterwarnings('ignore')\n",
    "\n",
    "%matplotlib inline\n",
    "import matplotlib.pyplot as plt\n",
    "\n",
    "PROJECT_ROOT_DIR = \".\"\n",
    "CHAPTER_ID = \"decision_trees\"\n",
    "IMAGES_PATH = os.path.join(PROJECT_ROOT_DIR, \"images\", CHAPTER_ID)\n",
    "os.makedirs(IMAGES_PATH, exist_ok=True)\n",
    "\n",
    "np.random.seed(42)"
   ]
  },
  {
   "cell_type": "markdown",
   "metadata": {},
   "source": [
    "# Setting"
   ]
  },
  {
   "cell_type": "code",
   "execution_count": 8,
   "metadata": {
    "id": "WaIJP0eDi1m3"
   },
   "outputs": [
    {
     "data": {
      "text/html": [
       "<div>\n",
       "<style scoped>\n",
       "    .dataframe tbody tr th:only-of-type {\n",
       "        vertical-align: middle;\n",
       "    }\n",
       "\n",
       "    .dataframe tbody tr th {\n",
       "        vertical-align: top;\n",
       "    }\n",
       "\n",
       "    .dataframe thead th {\n",
       "        text-align: right;\n",
       "    }\n",
       "</style>\n",
       "<table border=\"1\" class=\"dataframe\">\n",
       "  <thead>\n",
       "    <tr style=\"text-align: right;\">\n",
       "      <th></th>\n",
       "      <th>alcohol</th>\n",
       "      <th>malic_acid</th>\n",
       "      <th>ash</th>\n",
       "      <th>alcalinity_of_ash</th>\n",
       "      <th>magnesium</th>\n",
       "      <th>total_phenols</th>\n",
       "      <th>flavanoids</th>\n",
       "      <th>nonflavanoid_phenols</th>\n",
       "      <th>proanthocyanins</th>\n",
       "      <th>color_intensity</th>\n",
       "      <th>hue</th>\n",
       "      <th>od280/od315_of_diluted_wines</th>\n",
       "      <th>proline</th>\n",
       "      <th>label</th>\n",
       "    </tr>\n",
       "  </thead>\n",
       "  <tbody>\n",
       "    <tr>\n",
       "      <th>0</th>\n",
       "      <td>14.23</td>\n",
       "      <td>1.71</td>\n",
       "      <td>2.43</td>\n",
       "      <td>15.6</td>\n",
       "      <td>127.0</td>\n",
       "      <td>2.80</td>\n",
       "      <td>3.06</td>\n",
       "      <td>0.28</td>\n",
       "      <td>2.29</td>\n",
       "      <td>5.64</td>\n",
       "      <td>1.04</td>\n",
       "      <td>3.92</td>\n",
       "      <td>1065.0</td>\n",
       "      <td>0</td>\n",
       "    </tr>\n",
       "    <tr>\n",
       "      <th>1</th>\n",
       "      <td>13.20</td>\n",
       "      <td>1.78</td>\n",
       "      <td>2.14</td>\n",
       "      <td>11.2</td>\n",
       "      <td>100.0</td>\n",
       "      <td>2.65</td>\n",
       "      <td>2.76</td>\n",
       "      <td>0.26</td>\n",
       "      <td>1.28</td>\n",
       "      <td>4.38</td>\n",
       "      <td>1.05</td>\n",
       "      <td>3.40</td>\n",
       "      <td>1050.0</td>\n",
       "      <td>0</td>\n",
       "    </tr>\n",
       "    <tr>\n",
       "      <th>2</th>\n",
       "      <td>13.16</td>\n",
       "      <td>2.36</td>\n",
       "      <td>2.67</td>\n",
       "      <td>18.6</td>\n",
       "      <td>101.0</td>\n",
       "      <td>2.80</td>\n",
       "      <td>3.24</td>\n",
       "      <td>0.30</td>\n",
       "      <td>2.81</td>\n",
       "      <td>5.68</td>\n",
       "      <td>1.03</td>\n",
       "      <td>3.17</td>\n",
       "      <td>1185.0</td>\n",
       "      <td>0</td>\n",
       "    </tr>\n",
       "    <tr>\n",
       "      <th>3</th>\n",
       "      <td>14.37</td>\n",
       "      <td>1.95</td>\n",
       "      <td>2.50</td>\n",
       "      <td>16.8</td>\n",
       "      <td>113.0</td>\n",
       "      <td>3.85</td>\n",
       "      <td>3.49</td>\n",
       "      <td>0.24</td>\n",
       "      <td>2.18</td>\n",
       "      <td>7.80</td>\n",
       "      <td>0.86</td>\n",
       "      <td>3.45</td>\n",
       "      <td>1480.0</td>\n",
       "      <td>0</td>\n",
       "    </tr>\n",
       "    <tr>\n",
       "      <th>4</th>\n",
       "      <td>13.24</td>\n",
       "      <td>2.59</td>\n",
       "      <td>2.87</td>\n",
       "      <td>21.0</td>\n",
       "      <td>118.0</td>\n",
       "      <td>2.80</td>\n",
       "      <td>2.69</td>\n",
       "      <td>0.39</td>\n",
       "      <td>1.82</td>\n",
       "      <td>4.32</td>\n",
       "      <td>1.04</td>\n",
       "      <td>2.93</td>\n",
       "      <td>735.0</td>\n",
       "      <td>0</td>\n",
       "    </tr>\n",
       "    <tr>\n",
       "      <th>...</th>\n",
       "      <td>...</td>\n",
       "      <td>...</td>\n",
       "      <td>...</td>\n",
       "      <td>...</td>\n",
       "      <td>...</td>\n",
       "      <td>...</td>\n",
       "      <td>...</td>\n",
       "      <td>...</td>\n",
       "      <td>...</td>\n",
       "      <td>...</td>\n",
       "      <td>...</td>\n",
       "      <td>...</td>\n",
       "      <td>...</td>\n",
       "      <td>...</td>\n",
       "    </tr>\n",
       "    <tr>\n",
       "      <th>173</th>\n",
       "      <td>13.71</td>\n",
       "      <td>5.65</td>\n",
       "      <td>2.45</td>\n",
       "      <td>20.5</td>\n",
       "      <td>95.0</td>\n",
       "      <td>1.68</td>\n",
       "      <td>0.61</td>\n",
       "      <td>0.52</td>\n",
       "      <td>1.06</td>\n",
       "      <td>7.70</td>\n",
       "      <td>0.64</td>\n",
       "      <td>1.74</td>\n",
       "      <td>740.0</td>\n",
       "      <td>2</td>\n",
       "    </tr>\n",
       "    <tr>\n",
       "      <th>174</th>\n",
       "      <td>13.40</td>\n",
       "      <td>3.91</td>\n",
       "      <td>2.48</td>\n",
       "      <td>23.0</td>\n",
       "      <td>102.0</td>\n",
       "      <td>1.80</td>\n",
       "      <td>0.75</td>\n",
       "      <td>0.43</td>\n",
       "      <td>1.41</td>\n",
       "      <td>7.30</td>\n",
       "      <td>0.70</td>\n",
       "      <td>1.56</td>\n",
       "      <td>750.0</td>\n",
       "      <td>2</td>\n",
       "    </tr>\n",
       "    <tr>\n",
       "      <th>175</th>\n",
       "      <td>13.27</td>\n",
       "      <td>4.28</td>\n",
       "      <td>2.26</td>\n",
       "      <td>20.0</td>\n",
       "      <td>120.0</td>\n",
       "      <td>1.59</td>\n",
       "      <td>0.69</td>\n",
       "      <td>0.43</td>\n",
       "      <td>1.35</td>\n",
       "      <td>10.20</td>\n",
       "      <td>0.59</td>\n",
       "      <td>1.56</td>\n",
       "      <td>835.0</td>\n",
       "      <td>2</td>\n",
       "    </tr>\n",
       "    <tr>\n",
       "      <th>176</th>\n",
       "      <td>13.17</td>\n",
       "      <td>2.59</td>\n",
       "      <td>2.37</td>\n",
       "      <td>20.0</td>\n",
       "      <td>120.0</td>\n",
       "      <td>1.65</td>\n",
       "      <td>0.68</td>\n",
       "      <td>0.53</td>\n",
       "      <td>1.46</td>\n",
       "      <td>9.30</td>\n",
       "      <td>0.60</td>\n",
       "      <td>1.62</td>\n",
       "      <td>840.0</td>\n",
       "      <td>2</td>\n",
       "    </tr>\n",
       "    <tr>\n",
       "      <th>177</th>\n",
       "      <td>14.13</td>\n",
       "      <td>4.10</td>\n",
       "      <td>2.74</td>\n",
       "      <td>24.5</td>\n",
       "      <td>96.0</td>\n",
       "      <td>2.05</td>\n",
       "      <td>0.76</td>\n",
       "      <td>0.56</td>\n",
       "      <td>1.35</td>\n",
       "      <td>9.20</td>\n",
       "      <td>0.61</td>\n",
       "      <td>1.60</td>\n",
       "      <td>560.0</td>\n",
       "      <td>2</td>\n",
       "    </tr>\n",
       "  </tbody>\n",
       "</table>\n",
       "<p>178 rows × 14 columns</p>\n",
       "</div>"
      ],
      "text/plain": [
       "     alcohol  malic_acid   ash  alcalinity_of_ash  magnesium  total_phenols  \\\n",
       "0      14.23        1.71  2.43               15.6      127.0           2.80   \n",
       "1      13.20        1.78  2.14               11.2      100.0           2.65   \n",
       "2      13.16        2.36  2.67               18.6      101.0           2.80   \n",
       "3      14.37        1.95  2.50               16.8      113.0           3.85   \n",
       "4      13.24        2.59  2.87               21.0      118.0           2.80   \n",
       "..       ...         ...   ...                ...        ...            ...   \n",
       "173    13.71        5.65  2.45               20.5       95.0           1.68   \n",
       "174    13.40        3.91  2.48               23.0      102.0           1.80   \n",
       "175    13.27        4.28  2.26               20.0      120.0           1.59   \n",
       "176    13.17        2.59  2.37               20.0      120.0           1.65   \n",
       "177    14.13        4.10  2.74               24.5       96.0           2.05   \n",
       "\n",
       "     flavanoids  nonflavanoid_phenols  proanthocyanins  color_intensity   hue  \\\n",
       "0          3.06                  0.28             2.29             5.64  1.04   \n",
       "1          2.76                  0.26             1.28             4.38  1.05   \n",
       "2          3.24                  0.30             2.81             5.68  1.03   \n",
       "3          3.49                  0.24             2.18             7.80  0.86   \n",
       "4          2.69                  0.39             1.82             4.32  1.04   \n",
       "..          ...                   ...              ...              ...   ...   \n",
       "173        0.61                  0.52             1.06             7.70  0.64   \n",
       "174        0.75                  0.43             1.41             7.30  0.70   \n",
       "175        0.69                  0.43             1.35            10.20  0.59   \n",
       "176        0.68                  0.53             1.46             9.30  0.60   \n",
       "177        0.76                  0.56             1.35             9.20  0.61   \n",
       "\n",
       "     od280/od315_of_diluted_wines  proline  label  \n",
       "0                            3.92   1065.0      0  \n",
       "1                            3.40   1050.0      0  \n",
       "2                            3.17   1185.0      0  \n",
       "3                            3.45   1480.0      0  \n",
       "4                            2.93    735.0      0  \n",
       "..                            ...      ...    ...  \n",
       "173                          1.74    740.0      2  \n",
       "174                          1.56    750.0      2  \n",
       "175                          1.56    835.0      2  \n",
       "176                          1.62    840.0      2  \n",
       "177                          1.60    560.0      2  \n",
       "\n",
       "[178 rows x 14 columns]"
      ]
     },
     "execution_count": 8,
     "metadata": {},
     "output_type": "execute_result"
    }
   ],
   "source": [
    "from sklearn.datasets import load_wine\n",
    "wine = load_wine(as_frame=True)\n",
    "df = wine.data\n",
    "df['label'] = wine.target\n",
    "df"
   ]
  },
  {
   "cell_type": "code",
   "execution_count": 4,
   "metadata": {
    "id": "WaIJP0eDi1m3"
   },
   "outputs": [],
   "source": [
    "# wine = load_wine()\n",
    "X_train, X_test, y_train, y_test = train_test_split(df.iloc[:,:13], df.label, test_size= 0.2, random_state = 11)"
   ]
  },
  {
   "cell_type": "markdown",
   "metadata": {},
   "source": [
    "#### Optimize max_depth\n",
    "최적의 max_depth를 찾기 위하여 1:11 까지 반복문을 사용하여 테스트셋의 정확도를 출력하였다."
   ]
  },
  {
   "cell_type": "code",
   "execution_count": 4,
   "metadata": {},
   "outputs": [
    {
     "name": "stdout",
     "output_type": "stream",
     "text": [
      "Max_depth: 1 정확도: 0.6944444444444444\n",
      "Max_depth: 2 정확도: 0.8888888888888888\n",
      "Max_depth: 3 정확도: 0.9722222222222222\n",
      "Max_depth: 4 정확도: 0.9444444444444444\n",
      "Max_depth: 5 정확도: 0.9444444444444444\n",
      "Max_depth: 6 정확도: 0.9444444444444444\n",
      "Max_depth: 7 정확도: 0.9444444444444444\n",
      "Max_depth: 8 정확도: 0.9444444444444444\n",
      "Max_depth: 9 정확도: 0.9444444444444444\n",
      "Max_depth: 10 정확도: 0.9444444444444444\n"
     ]
    }
   ],
   "source": [
    "for i in range(1,11):\n",
    "    clf = DecisionTreeClassifier(max_depth= i,random_state=42)\n",
    "    clf.fit(X_train,y_train)\n",
    "    pred_test = clf.predict(X_test)\n",
    "    print(f\"Max_depth: {i} 정확도: {accuracy_score(pred_test, y_test)}\")"
   ]
  },
  {
   "cell_type": "markdown",
   "metadata": {},
   "source": [
    "* **max_depth = 3**에서 가장 높은 정확도를 보이고, 그 후에는 정확도가 오히려 떨어진다."
   ]
  },
  {
   "cell_type": "code",
   "execution_count": 6,
   "metadata": {},
   "outputs": [],
   "source": [
    "MAX_DEPTH = 3 #상수로 고정"
   ]
  },
  {
   "cell_type": "markdown",
   "metadata": {
    "id": "Tr4Qoi2PmL7N",
    "tags": []
   },
   "source": [
    "# graph(tree) Viz"
   ]
  },
  {
   "cell_type": "code",
   "execution_count": 9,
   "metadata": {},
   "outputs": [
    {
     "data": {
      "text/plain": [
       "array(['class_0', 'class_1', 'class_2'], dtype='<U7')"
      ]
     },
     "execution_count": 9,
     "metadata": {},
     "output_type": "execute_result"
    }
   ],
   "source": [
    "wine.target_names"
   ]
  },
  {
   "cell_type": "code",
   "execution_count": 6,
   "metadata": {
    "id": "zUXcoAhjPCZX"
   },
   "outputs": [
    {
     "data": {
      "image/svg+xml": [
       "<?xml version=\"1.0\" encoding=\"UTF-8\" standalone=\"no\"?>\r\n",
       "<!DOCTYPE svg PUBLIC \"-//W3C//DTD SVG 1.1//EN\"\r\n",
       " \"http://www.w3.org/Graphics/SVG/1.1/DTD/svg11.dtd\">\r\n",
       "<!-- Generated by graphviz version 2.38.0 (20140413.2041)\r\n",
       " -->\r\n",
       "<!-- Title: Tree Pages: 1 -->\r\n",
       "<svg width=\"618pt\" height=\"433pt\"\r\n",
       " viewBox=\"0.00 0.00 618.00 433.00\" xmlns=\"http://www.w3.org/2000/svg\" xmlns:xlink=\"http://www.w3.org/1999/xlink\">\r\n",
       "<g id=\"graph0\" class=\"graph\" transform=\"scale(1 1) rotate(0) translate(4 429)\">\r\n",
       "<title>Tree</title>\r\n",
       "<polygon fill=\"white\" stroke=\"none\" points=\"-4,4 -4,-429 614,-429 614,4 -4,4\"/>\r\n",
       "<!-- 0 -->\r\n",
       "<g id=\"node1\" class=\"node\"><title>0</title>\r\n",
       "<path fill=\"#e9fcf1\" stroke=\"black\" d=\"M338.5,-425C338.5,-425 202.5,-425 202.5,-425 196.5,-425 190.5,-419 190.5,-413 190.5,-413 190.5,-354 190.5,-354 190.5,-348 196.5,-342 202.5,-342 202.5,-342 338.5,-342 338.5,-342 344.5,-342 350.5,-348 350.5,-354 350.5,-354 350.5,-413 350.5,-413 350.5,-419 344.5,-425 338.5,-425\"/>\r\n",
       "<text text-anchor=\"middle\" x=\"270.5\" y=\"-409.8\" font-family=\"Helvetica,sans-Serif\" font-size=\"14.00\">color_intensity &lt;= 3.82</text>\r\n",
       "<text text-anchor=\"middle\" x=\"270.5\" y=\"-394.8\" font-family=\"Helvetica,sans-Serif\" font-size=\"14.00\">gini = 0.661</text>\r\n",
       "<text text-anchor=\"middle\" x=\"270.5\" y=\"-379.8\" font-family=\"Helvetica,sans-Serif\" font-size=\"14.00\">samples = 142</text>\r\n",
       "<text text-anchor=\"middle\" x=\"270.5\" y=\"-364.8\" font-family=\"Helvetica,sans-Serif\" font-size=\"14.00\">value = [45, 56, 41]</text>\r\n",
       "<text text-anchor=\"middle\" x=\"270.5\" y=\"-349.8\" font-family=\"Helvetica,sans-Serif\" font-size=\"14.00\">class = class_1</text>\r\n",
       "</g>\r\n",
       "<!-- 1 -->\r\n",
       "<g id=\"node2\" class=\"node\"><title>1</title>\r\n",
       "<path fill=\"#45e789\" stroke=\"black\" d=\"M247,-306C247,-306 150,-306 150,-306 144,-306 138,-300 138,-294 138,-294 138,-235 138,-235 138,-229 144,-223 150,-223 150,-223 247,-223 247,-223 253,-223 259,-229 259,-235 259,-235 259,-294 259,-294 259,-300 253,-306 247,-306\"/>\r\n",
       "<text text-anchor=\"middle\" x=\"198.5\" y=\"-290.8\" font-family=\"Helvetica,sans-Serif\" font-size=\"14.00\">proline &lt;= 790.0</text>\r\n",
       "<text text-anchor=\"middle\" x=\"198.5\" y=\"-275.8\" font-family=\"Helvetica,sans-Serif\" font-size=\"14.00\">gini = 0.111</text>\r\n",
       "<text text-anchor=\"middle\" x=\"198.5\" y=\"-260.8\" font-family=\"Helvetica,sans-Serif\" font-size=\"14.00\">samples = 51</text>\r\n",
       "<text text-anchor=\"middle\" x=\"198.5\" y=\"-245.8\" font-family=\"Helvetica,sans-Serif\" font-size=\"14.00\">value = [3, 48, 0]</text>\r\n",
       "<text text-anchor=\"middle\" x=\"198.5\" y=\"-230.8\" font-family=\"Helvetica,sans-Serif\" font-size=\"14.00\">class = class_1</text>\r\n",
       "</g>\r\n",
       "<!-- 0&#45;&gt;1 -->\r\n",
       "<g id=\"edge1\" class=\"edge\"><title>0&#45;&gt;1</title>\r\n",
       "<path fill=\"none\" stroke=\"black\" d=\"M245.52,-341.907C240.103,-333.105 234.317,-323.703 228.723,-314.612\"/>\r\n",
       "<polygon fill=\"black\" stroke=\"black\" points=\"231.658,-312.703 223.436,-306.021 225.696,-316.372 231.658,-312.703\"/>\r\n",
       "<text text-anchor=\"middle\" x=\"217.645\" y=\"-326.641\" font-family=\"Helvetica,sans-Serif\" font-size=\"14.00\">True</text>\r\n",
       "</g>\r\n",
       "<!-- 6 -->\r\n",
       "<g id=\"node7\" class=\"node\"><title>6</title>\r\n",
       "<path fill=\"#fefcfb\" stroke=\"black\" d=\"M398,-306C398,-306 289,-306 289,-306 283,-306 277,-300 277,-294 277,-294 277,-235 277,-235 277,-229 283,-223 289,-223 289,-223 398,-223 398,-223 404,-223 410,-229 410,-235 410,-235 410,-294 410,-294 410,-300 404,-306 398,-306\"/>\r\n",
       "<text text-anchor=\"middle\" x=\"343.5\" y=\"-290.8\" font-family=\"Helvetica,sans-Serif\" font-size=\"14.00\">flavanoids &lt;= 1.58</text>\r\n",
       "<text text-anchor=\"middle\" x=\"343.5\" y=\"-275.8\" font-family=\"Helvetica,sans-Serif\" font-size=\"14.00\">gini = 0.576</text>\r\n",
       "<text text-anchor=\"middle\" x=\"343.5\" y=\"-260.8\" font-family=\"Helvetica,sans-Serif\" font-size=\"14.00\">samples = 91</text>\r\n",
       "<text text-anchor=\"middle\" x=\"343.5\" y=\"-245.8\" font-family=\"Helvetica,sans-Serif\" font-size=\"14.00\">value = [42, 8, 41]</text>\r\n",
       "<text text-anchor=\"middle\" x=\"343.5\" y=\"-230.8\" font-family=\"Helvetica,sans-Serif\" font-size=\"14.00\">class = class_0</text>\r\n",
       "</g>\r\n",
       "<!-- 0&#45;&gt;6 -->\r\n",
       "<g id=\"edge6\" class=\"edge\"><title>0&#45;&gt;6</title>\r\n",
       "<path fill=\"none\" stroke=\"black\" d=\"M295.827,-341.907C301.319,-333.105 307.185,-323.703 312.857,-314.612\"/>\r\n",
       "<polygon fill=\"black\" stroke=\"black\" points=\"315.894,-316.358 318.218,-306.021 309.955,-312.652 315.894,-316.358\"/>\r\n",
       "<text text-anchor=\"middle\" x=\"323.858\" y=\"-326.676\" font-family=\"Helvetica,sans-Serif\" font-size=\"14.00\">False</text>\r\n",
       "</g>\r\n",
       "<!-- 2 -->\r\n",
       "<g id=\"node3\" class=\"node\"><title>2</title>\r\n",
       "<path fill=\"#39e581\" stroke=\"black\" d=\"M109,-179.5C109,-179.5 12,-179.5 12,-179.5 6,-179.5 0,-173.5 0,-167.5 0,-167.5 0,-123.5 0,-123.5 0,-117.5 6,-111.5 12,-111.5 12,-111.5 109,-111.5 109,-111.5 115,-111.5 121,-117.5 121,-123.5 121,-123.5 121,-167.5 121,-167.5 121,-173.5 115,-179.5 109,-179.5\"/>\r\n",
       "<text text-anchor=\"middle\" x=\"60.5\" y=\"-164.3\" font-family=\"Helvetica,sans-Serif\" font-size=\"14.00\">gini = 0.0</text>\r\n",
       "<text text-anchor=\"middle\" x=\"60.5\" y=\"-149.3\" font-family=\"Helvetica,sans-Serif\" font-size=\"14.00\">samples = 44</text>\r\n",
       "<text text-anchor=\"middle\" x=\"60.5\" y=\"-134.3\" font-family=\"Helvetica,sans-Serif\" font-size=\"14.00\">value = [0, 44, 0]</text>\r\n",
       "<text text-anchor=\"middle\" x=\"60.5\" y=\"-119.3\" font-family=\"Helvetica,sans-Serif\" font-size=\"14.00\">class = class_1</text>\r\n",
       "</g>\r\n",
       "<!-- 1&#45;&gt;2 -->\r\n",
       "<g id=\"edge2\" class=\"edge\"><title>1&#45;&gt;2</title>\r\n",
       "<path fill=\"none\" stroke=\"black\" d=\"M150.622,-222.907C136.695,-211.101 121.499,-198.217 107.62,-186.45\"/>\r\n",
       "<polygon fill=\"black\" stroke=\"black\" points=\"109.511,-183.464 99.62,-179.667 104.984,-188.803 109.511,-183.464\"/>\r\n",
       "</g>\r\n",
       "<!-- 3 -->\r\n",
       "<g id=\"node4\" class=\"node\"><title>3</title>\r\n",
       "<path fill=\"#cef8e0\" stroke=\"black\" d=\"M249.5,-187C249.5,-187 151.5,-187 151.5,-187 145.5,-187 139.5,-181 139.5,-175 139.5,-175 139.5,-116 139.5,-116 139.5,-110 145.5,-104 151.5,-104 151.5,-104 249.5,-104 249.5,-104 255.5,-104 261.5,-110 261.5,-116 261.5,-116 261.5,-175 261.5,-175 261.5,-181 255.5,-187 249.5,-187\"/>\r\n",
       "<text text-anchor=\"middle\" x=\"200.5\" y=\"-171.8\" font-family=\"Helvetica,sans-Serif\" font-size=\"14.00\">alcohol &lt;= 13.02</text>\r\n",
       "<text text-anchor=\"middle\" x=\"200.5\" y=\"-156.8\" font-family=\"Helvetica,sans-Serif\" font-size=\"14.00\">gini = 0.49</text>\r\n",
       "<text text-anchor=\"middle\" x=\"200.5\" y=\"-141.8\" font-family=\"Helvetica,sans-Serif\" font-size=\"14.00\">samples = 7</text>\r\n",
       "<text text-anchor=\"middle\" x=\"200.5\" y=\"-126.8\" font-family=\"Helvetica,sans-Serif\" font-size=\"14.00\">value = [3, 4, 0]</text>\r\n",
       "<text text-anchor=\"middle\" x=\"200.5\" y=\"-111.8\" font-family=\"Helvetica,sans-Serif\" font-size=\"14.00\">class = class_1</text>\r\n",
       "</g>\r\n",
       "<!-- 1&#45;&gt;3 -->\r\n",
       "<g id=\"edge3\" class=\"edge\"><title>1&#45;&gt;3</title>\r\n",
       "<path fill=\"none\" stroke=\"black\" d=\"M199.194,-222.907C199.337,-214.558 199.489,-205.671 199.636,-197.02\"/>\r\n",
       "<polygon fill=\"black\" stroke=\"black\" points=\"203.136,-197.079 199.807,-187.021 196.137,-196.959 203.136,-197.079\"/>\r\n",
       "</g>\r\n",
       "<!-- 4 -->\r\n",
       "<g id=\"node5\" class=\"node\"><title>4</title>\r\n",
       "<path fill=\"#39e581\" stroke=\"black\" d=\"M152,-68C152,-68 61,-68 61,-68 55,-68 49,-62 49,-56 49,-56 49,-12 49,-12 49,-6 55,-0 61,-0 61,-0 152,-0 152,-0 158,-0 164,-6 164,-12 164,-12 164,-56 164,-56 164,-62 158,-68 152,-68\"/>\r\n",
       "<text text-anchor=\"middle\" x=\"106.5\" y=\"-52.8\" font-family=\"Helvetica,sans-Serif\" font-size=\"14.00\">gini = 0.0</text>\r\n",
       "<text text-anchor=\"middle\" x=\"106.5\" y=\"-37.8\" font-family=\"Helvetica,sans-Serif\" font-size=\"14.00\">samples = 4</text>\r\n",
       "<text text-anchor=\"middle\" x=\"106.5\" y=\"-22.8\" font-family=\"Helvetica,sans-Serif\" font-size=\"14.00\">value = [0, 4, 0]</text>\r\n",
       "<text text-anchor=\"middle\" x=\"106.5\" y=\"-7.8\" font-family=\"Helvetica,sans-Serif\" font-size=\"14.00\">class = class_1</text>\r\n",
       "</g>\r\n",
       "<!-- 3&#45;&gt;4 -->\r\n",
       "<g id=\"edge4\" class=\"edge\"><title>3&#45;&gt;4</title>\r\n",
       "<path fill=\"none\" stroke=\"black\" d=\"M165.498,-103.726C157.746,-94.6966 149.528,-85.1235 141.766,-76.0816\"/>\r\n",
       "<polygon fill=\"black\" stroke=\"black\" points=\"144.255,-73.6075 135.086,-68.2996 138.944,-78.1671 144.255,-73.6075\"/>\r\n",
       "</g>\r\n",
       "<!-- 5 -->\r\n",
       "<g id=\"node6\" class=\"node\"><title>5</title>\r\n",
       "<path fill=\"#e58139\" stroke=\"black\" d=\"M285,-68C285,-68 194,-68 194,-68 188,-68 182,-62 182,-56 182,-56 182,-12 182,-12 182,-6 188,-0 194,-0 194,-0 285,-0 285,-0 291,-0 297,-6 297,-12 297,-12 297,-56 297,-56 297,-62 291,-68 285,-68\"/>\r\n",
       "<text text-anchor=\"middle\" x=\"239.5\" y=\"-52.8\" font-family=\"Helvetica,sans-Serif\" font-size=\"14.00\">gini = 0.0</text>\r\n",
       "<text text-anchor=\"middle\" x=\"239.5\" y=\"-37.8\" font-family=\"Helvetica,sans-Serif\" font-size=\"14.00\">samples = 3</text>\r\n",
       "<text text-anchor=\"middle\" x=\"239.5\" y=\"-22.8\" font-family=\"Helvetica,sans-Serif\" font-size=\"14.00\">value = [3, 0, 0]</text>\r\n",
       "<text text-anchor=\"middle\" x=\"239.5\" y=\"-7.8\" font-family=\"Helvetica,sans-Serif\" font-size=\"14.00\">class = class_0</text>\r\n",
       "</g>\r\n",
       "<!-- 3&#45;&gt;5 -->\r\n",
       "<g id=\"edge5\" class=\"edge\"><title>3&#45;&gt;5</title>\r\n",
       "<path fill=\"none\" stroke=\"black\" d=\"M215.022,-103.726C218.043,-95.2439 221.235,-86.2819 224.281,-77.7312\"/>\r\n",
       "<polygon fill=\"black\" stroke=\"black\" points=\"227.582,-78.8943 227.64,-68.2996 220.987,-76.5456 227.582,-78.8943\"/>\r\n",
       "</g>\r\n",
       "<!-- 7 -->\r\n",
       "<g id=\"node8\" class=\"node\"><title>7</title>\r\n",
       "<path fill=\"#8139e5\" stroke=\"black\" d=\"M391,-179.5C391,-179.5 294,-179.5 294,-179.5 288,-179.5 282,-173.5 282,-167.5 282,-167.5 282,-123.5 282,-123.5 282,-117.5 288,-111.5 294,-111.5 294,-111.5 391,-111.5 391,-111.5 397,-111.5 403,-117.5 403,-123.5 403,-123.5 403,-167.5 403,-167.5 403,-173.5 397,-179.5 391,-179.5\"/>\r\n",
       "<text text-anchor=\"middle\" x=\"342.5\" y=\"-164.3\" font-family=\"Helvetica,sans-Serif\" font-size=\"14.00\">gini = 0.0</text>\r\n",
       "<text text-anchor=\"middle\" x=\"342.5\" y=\"-149.3\" font-family=\"Helvetica,sans-Serif\" font-size=\"14.00\">samples = 41</text>\r\n",
       "<text text-anchor=\"middle\" x=\"342.5\" y=\"-134.3\" font-family=\"Helvetica,sans-Serif\" font-size=\"14.00\">value = [0, 0, 41]</text>\r\n",
       "<text text-anchor=\"middle\" x=\"342.5\" y=\"-119.3\" font-family=\"Helvetica,sans-Serif\" font-size=\"14.00\">class = class_2</text>\r\n",
       "</g>\r\n",
       "<!-- 6&#45;&gt;7 -->\r\n",
       "<g id=\"edge7\" class=\"edge\"><title>6&#45;&gt;7</title>\r\n",
       "<path fill=\"none\" stroke=\"black\" d=\"M343.153,-222.907C343.062,-212.204 342.963,-200.615 342.87,-189.776\"/>\r\n",
       "<polygon fill=\"black\" stroke=\"black\" points=\"346.369,-189.637 342.783,-179.667 339.369,-189.697 346.369,-189.637\"/>\r\n",
       "</g>\r\n",
       "<!-- 8 -->\r\n",
       "<g id=\"node9\" class=\"node\"><title>8</title>\r\n",
       "<path fill=\"#ea995f\" stroke=\"black\" d=\"M530,-187C530,-187 433,-187 433,-187 427,-187 421,-181 421,-175 421,-175 421,-116 421,-116 421,-110 427,-104 433,-104 433,-104 530,-104 530,-104 536,-104 542,-110 542,-116 542,-116 542,-175 542,-175 542,-181 536,-187 530,-187\"/>\r\n",
       "<text text-anchor=\"middle\" x=\"481.5\" y=\"-171.8\" font-family=\"Helvetica,sans-Serif\" font-size=\"14.00\">proline &lt;= 724.5</text>\r\n",
       "<text text-anchor=\"middle\" x=\"481.5\" y=\"-156.8\" font-family=\"Helvetica,sans-Serif\" font-size=\"14.00\">gini = 0.269</text>\r\n",
       "<text text-anchor=\"middle\" x=\"481.5\" y=\"-141.8\" font-family=\"Helvetica,sans-Serif\" font-size=\"14.00\">samples = 50</text>\r\n",
       "<text text-anchor=\"middle\" x=\"481.5\" y=\"-126.8\" font-family=\"Helvetica,sans-Serif\" font-size=\"14.00\">value = [42, 8, 0]</text>\r\n",
       "<text text-anchor=\"middle\" x=\"481.5\" y=\"-111.8\" font-family=\"Helvetica,sans-Serif\" font-size=\"14.00\">class = class_0</text>\r\n",
       "</g>\r\n",
       "<!-- 6&#45;&gt;8 -->\r\n",
       "<g id=\"edge8\" class=\"edge\"><title>6&#45;&gt;8</title>\r\n",
       "<path fill=\"none\" stroke=\"black\" d=\"M391.378,-222.907C402.511,-213.469 414.454,-203.343 425.888,-193.649\"/>\r\n",
       "<polygon fill=\"black\" stroke=\"black\" points=\"428.342,-196.157 433.706,-187.021 423.815,-190.818 428.342,-196.157\"/>\r\n",
       "</g>\r\n",
       "<!-- 9 -->\r\n",
       "<g id=\"node10\" class=\"node\"><title>9</title>\r\n",
       "<path fill=\"#52e891\" stroke=\"black\" d=\"M459,-68C459,-68 368,-68 368,-68 362,-68 356,-62 356,-56 356,-56 356,-12 356,-12 356,-6 362,-0 368,-0 368,-0 459,-0 459,-0 465,-0 471,-6 471,-12 471,-12 471,-56 471,-56 471,-62 465,-68 459,-68\"/>\r\n",
       "<text text-anchor=\"middle\" x=\"413.5\" y=\"-52.8\" font-family=\"Helvetica,sans-Serif\" font-size=\"14.00\">gini = 0.198</text>\r\n",
       "<text text-anchor=\"middle\" x=\"413.5\" y=\"-37.8\" font-family=\"Helvetica,sans-Serif\" font-size=\"14.00\">samples = 9</text>\r\n",
       "<text text-anchor=\"middle\" x=\"413.5\" y=\"-22.8\" font-family=\"Helvetica,sans-Serif\" font-size=\"14.00\">value = [1, 8, 0]</text>\r\n",
       "<text text-anchor=\"middle\" x=\"413.5\" y=\"-7.8\" font-family=\"Helvetica,sans-Serif\" font-size=\"14.00\">class = class_1</text>\r\n",
       "</g>\r\n",
       "<!-- 8&#45;&gt;9 -->\r\n",
       "<g id=\"edge9\" class=\"edge\"><title>8&#45;&gt;9</title>\r\n",
       "<path fill=\"none\" stroke=\"black\" d=\"M456.179,-103.726C450.742,-94.9703 444.987,-85.7032 439.523,-76.9051\"/>\r\n",
       "<polygon fill=\"black\" stroke=\"black\" points=\"442.428,-74.9484 434.179,-68.2996 436.481,-78.6413 442.428,-74.9484\"/>\r\n",
       "</g>\r\n",
       "<!-- 10 -->\r\n",
       "<g id=\"node11\" class=\"node\"><title>10</title>\r\n",
       "<path fill=\"#e58139\" stroke=\"black\" d=\"M598,-68C598,-68 501,-68 501,-68 495,-68 489,-62 489,-56 489,-56 489,-12 489,-12 489,-6 495,-0 501,-0 501,-0 598,-0 598,-0 604,-0 610,-6 610,-12 610,-12 610,-56 610,-56 610,-62 604,-68 598,-68\"/>\r\n",
       "<text text-anchor=\"middle\" x=\"549.5\" y=\"-52.8\" font-family=\"Helvetica,sans-Serif\" font-size=\"14.00\">gini = 0.0</text>\r\n",
       "<text text-anchor=\"middle\" x=\"549.5\" y=\"-37.8\" font-family=\"Helvetica,sans-Serif\" font-size=\"14.00\">samples = 41</text>\r\n",
       "<text text-anchor=\"middle\" x=\"549.5\" y=\"-22.8\" font-family=\"Helvetica,sans-Serif\" font-size=\"14.00\">value = [41, 0, 0]</text>\r\n",
       "<text text-anchor=\"middle\" x=\"549.5\" y=\"-7.8\" font-family=\"Helvetica,sans-Serif\" font-size=\"14.00\">class = class_0</text>\r\n",
       "</g>\r\n",
       "<!-- 8&#45;&gt;10 -->\r\n",
       "<g id=\"edge10\" class=\"edge\"><title>8&#45;&gt;10</title>\r\n",
       "<path fill=\"none\" stroke=\"black\" d=\"M506.821,-103.726C512.258,-94.9703 518.013,-85.7032 523.477,-76.9051\"/>\r\n",
       "<polygon fill=\"black\" stroke=\"black\" points=\"526.519,-78.6413 528.821,-68.2996 520.572,-74.9484 526.519,-78.6413\"/>\r\n",
       "</g>\r\n",
       "</g>\r\n",
       "</svg>\r\n"
      ],
      "text/plain": [
       "<graphviz.files.Source at 0x192e6cccf40>"
      ]
     },
     "execution_count": 6,
     "metadata": {},
     "output_type": "execute_result"
    }
   ],
   "source": [
    "clf = DecisionTreeClassifier(max_depth=MAX_DEPTH,random_state=42)\n",
    "X_train, X_test, y_train, y_test = train_test_split(df.iloc[:,:13], df.label, test_size= 0.2, random_state = 11)\n",
    "clf.fit(X_train,y_train)\n",
    "\n",
    "export_graphviz(\n",
    "        clf,\n",
    "        out_file=os.path.join(IMAGES_PATH, \"wine_tree.dot\"),\n",
    "        feature_names=wine.feature_names,\n",
    "        class_names=wine.target_names,\n",
    "        rounded=True,\n",
    "        filled=True\n",
    "    )\n",
    "Source.from_file(os.path.join(IMAGES_PATH, \"wine_tree.dot\"))"
   ]
  },
  {
   "cell_type": "markdown",
   "metadata": {
    "id": "ms2o0Wa_mUAs"
   },
   "source": [
    "# Accuracy"
   ]
  },
  {
   "cell_type": "code",
   "execution_count": 7,
   "metadata": {
    "id": "Q3KNtrtPjAt4"
   },
   "outputs": [
    {
     "name": "stdout",
     "output_type": "stream",
     "text": [
      "train acc: 0.9929577464788732\n",
      "test acc: 0.9722222222222222\n"
     ]
    }
   ],
   "source": [
    "pred_train = clf.predict(X_train)\n",
    "pred_test = clf.predict(X_test)\n",
    "\n",
    "print(f\"train acc: {accuracy_score(pred_train, y_train)}\")\n",
    "print(f\"test acc: {accuracy_score(pred_test, y_test)}\")"
   ]
  },
  {
   "cell_type": "markdown",
   "metadata": {
    "tags": []
   },
   "source": [
    "#### Check Overfitting: Repeated Random Subsampling Validation Method\n",
    "Dataset Split에서 seed값 변화에 따른 테스트셋의 정확도를 출력하였다."
   ]
  },
  {
   "cell_type": "code",
   "execution_count": 7,
   "metadata": {},
   "outputs": [
    {
     "name": "stdout",
     "output_type": "stream",
     "text": [
      "Seed: 0 정확도: 0.9722222222222222\n",
      "Seed: 1 정확도: 0.8611111111111112\n",
      "Seed: 2 정확도: 0.9444444444444444\n",
      "Seed: 3 정확도: 0.8333333333333334\n",
      "Seed: 4 정확도: 0.8888888888888888\n",
      "Seed: 5 정확도: 0.8055555555555556\n",
      "Seed: 6 정확도: 0.8888888888888888\n",
      "Seed: 7 정확도: 0.9166666666666666\n",
      "Seed: 8 정확도: 0.9166666666666666\n",
      "Seed: 9 정확도: 0.9722222222222222\n"
     ]
    }
   ],
   "source": [
    "for seed in range(10):\n",
    "    X_train, X_test, y_train, y_test = train_test_split(df.iloc[:,:13], df.label, test_size= 0.2, random_state = seed)    \n",
    "    clf = DecisionTreeClassifier(max_depth= MAX_DEPTH,random_state=42)\n",
    "    clf.fit(X_train,y_train)\n",
    "    pred_test = clf.predict(X_test)\n",
    "    print(f\"Seed: {seed} 정확도: {accuracy_score(pred_test, y_test)}\")"
   ]
  },
  {
   "cell_type": "markdown",
   "metadata": {},
   "source": [
    "* 데이터셋 분할에 따른 테스트셋 정확도에 편차가 크다.\n",
    "* **Overfitting**이 의심된다."
   ]
  },
  {
   "cell_type": "markdown",
   "metadata": {},
   "source": [
    "# select most important 2 features\n",
    "#### visualize feature importance"
   ]
  },
  {
   "cell_type": "code",
   "execution_count": 11,
   "metadata": {},
   "outputs": [
    {
     "data": {
      "text/plain": [
       "DecisionTreeClassifier(max_depth=3, random_state=42)"
      ]
     },
     "execution_count": 11,
     "metadata": {},
     "output_type": "execute_result"
    }
   ],
   "source": [
    "X"
   ]
  },
  {
   "cell_type": "code",
   "execution_count": 10,
   "metadata": {
    "colab": {
     "base_uri": "https://localhost:8080/",
     "height": 380
    },
    "id": "_pzdMB7Goqrk",
    "outputId": "9952fa61-5f59-4319-bf1d-ec82abb8d279"
   },
   "outputs": [
    {
     "data": {
      "text/plain": [
       "(array([ 0,  1,  2,  3,  4,  5,  6,  7,  8,  9, 10, 11, 12]),\n",
       " [Text(0, 0, 'alcohol'),\n",
       "  Text(1, 0, 'malic_acid'),\n",
       "  Text(2, 0, 'ash'),\n",
       "  Text(3, 0, 'alcalinity_of_ash'),\n",
       "  Text(4, 0, 'magnesium'),\n",
       "  Text(5, 0, 'total_phenols'),\n",
       "  Text(6, 0, 'flavanoids'),\n",
       "  Text(7, 0, 'nonflavanoid_phenols'),\n",
       "  Text(8, 0, 'proanthocyanins'),\n",
       "  Text(9, 0, 'color_intensity'),\n",
       "  Text(10, 0, 'hue'),\n",
       "  Text(11, 0, 'od280/od315_of_diluted_wines'),\n",
       "  Text(12, 0, 'proline')])"
      ]
     },
     "execution_count": 10,
     "metadata": {},
     "output_type": "execute_result"
    },
    {
     "data": {
      "image/png": "[encoded data removed]",
      "text/plain": [
       "<Figure size 432x288 with 1 Axes>"
      ]
     },
     "metadata": {
      "needs_background": "light"
     },
     "output_type": "display_data"
    }
   ],
   "source": [
    "sns.barplot(x = clf.feature_names_in_, y = clf.feature_importances_)\n",
    "plt.xticks(rotation = 90)"
   ]
  },
  {
   "cell_type": "markdown",
   "metadata": {},
   "source": [
    "#### Sorting"
   ]
  },
  {
   "cell_type": "code",
   "execution_count": 10,
   "metadata": {},
   "outputs": [
    {
     "data": {
      "text/plain": [
       "(array([ 0,  1,  2,  3,  4,  5,  6,  7,  8,  9, 10, 11, 12]),\n",
       " [Text(0, 0, 'flavanoids'),\n",
       "  Text(1, 0, 'color_intensity'),\n",
       "  Text(2, 0, 'proline'),\n",
       "  Text(3, 0, 'od280/od315_of_diluted_wines'),\n",
       "  Text(4, 0, 'ash'),\n",
       "  Text(5, 0, 'alcalinity_of_ash'),\n",
       "  Text(6, 0, 'alcohol'),\n",
       "  Text(7, 0, 'malic_acid'),\n",
       "  Text(8, 0, 'magnesium'),\n",
       "  Text(9, 0, 'total_phenols'),\n",
       "  Text(10, 0, 'nonflavanoid_phenols'),\n",
       "  Text(11, 0, 'proanthocyanins'),\n",
       "  Text(12, 0, 'hue')])"
      ]
     },
     "execution_count": 10,
     "metadata": {},
     "output_type": "execute_result"
    },
    {
     "data": {
      "image/png": "[encoded data removed]",
      "text/plain": [
       "<Figure size 432x288 with 1 Axes>"
      ]
     },
     "metadata": {
      "needs_background": "light"
     },
     "output_type": "display_data"
    }
   ],
   "source": [
    "imp_df = pd.DataFrame({\n",
    "    \"feature_importances_\": clf.feature_importances_,\n",
    "    \"feature_names\": wine.feature_names\n",
    "})\n",
    "\n",
    "sns.barplot(x='feature_names', \n",
    "            y=\"feature_importances_\", \n",
    "            data=imp_df, \n",
    "            order=imp_df.sort_values('feature_importances_',ascending=False).feature_names)\n",
    "plt.xticks(rotation = 90)"
   ]
  },
  {
   "cell_type": "markdown",
   "metadata": {
    "id": "cSsf0iNfJcJH"
   },
   "source": [
    "#### Visualization data"
   ]
  },
  {
   "cell_type": "code",
   "execution_count": 11,
   "metadata": {
    "colab": {
     "base_uri": "https://localhost:8080/",
     "height": 413
    },
    "id": "lHirdl-wHJgJ",
    "outputId": "ca5de24f-8651-463d-ac79-ae817da5f915",
    "tags": []
   },
   "outputs": [
    {
     "data": {
      "text/plain": [
       "<AxesSubplot:xlabel='flavanoids', ylabel='color_intensity'>"
      ]
     },
     "execution_count": 11,
     "metadata": {},
     "output_type": "execute_result"
    },
    {
     "data": {
      "image/png": "[encoded data removed]",
      "text/plain": [
       "<Figure size 576x432 with 1 Axes>"
      ]
     },
     "metadata": {
      "needs_background": "light"
     },
     "output_type": "display_data"
    }
   ],
   "source": [
    "plt.figure(figsize=(8, 6))\n",
    "sns.scatterplot(data=df, x='flavanoids', y=\"color_intensity\", hue= \"label\")"
   ]
  },
  {
   "cell_type": "markdown",
   "metadata": {
    "tags": []
   },
   "source": [
    "# Train DT by only 2 features"
   ]
  },
  {
   "cell_type": "code",
   "execution_count": 12,
   "metadata": {},
   "outputs": [
    {
     "data": {
      "text/plain": [
       "DecisionTreeClassifier(max_depth=3, random_state=42)"
      ]
     },
     "execution_count": 12,
     "metadata": {},
     "output_type": "execute_result"
    }
   ],
   "source": [
    "X = df[['flavanoids', 'color_intensity']]\n",
    "y = df['label']\n",
    "X_train, X_test, y_train, y_test = train_test_split(X, y, test_size= 0.2, random_state = 11)\n",
    "\n",
    "clf_2features = DecisionTreeClassifier(max_depth=MAX_DEPTH,random_state=42)\n",
    "clf_2features.fit(X_train,y_train)"
   ]
  },
  {
   "cell_type": "code",
   "execution_count": 16,
   "metadata": {
    "tags": []
   },
   "outputs": [
    {
     "data": {
      "image/svg+xml": [
       "<?xml version=\"1.0\" encoding=\"UTF-8\" standalone=\"no\"?>\r\n",
       "<!DOCTYPE svg PUBLIC \"-//W3C//DTD SVG 1.1//EN\"\r\n",
       " \"http://www.w3.org/Graphics/SVG/1.1/DTD/svg11.dtd\">\r\n",
       "<!-- Generated by graphviz version 2.38.0 (20140413.2041)\r\n",
       " -->\r\n",
       "<!-- Title: Tree Pages: 1 -->\r\n",
       "<svg width=\"648pt\" height=\"433pt\"\r\n",
       " viewBox=\"0.00 0.00 648.00 433.00\" xmlns=\"http://www.w3.org/2000/svg\" xmlns:xlink=\"http://www.w3.org/1999/xlink\">\r\n",
       "<g id=\"graph0\" class=\"graph\" transform=\"scale(1 1) rotate(0) translate(4 429)\">\r\n",
       "<title>Tree</title>\r\n",
       "<polygon fill=\"white\" stroke=\"none\" points=\"-4,4 -4,-429 644,-429 644,4 -4,4\"/>\r\n",
       "<!-- 0 -->\r\n",
       "<g id=\"node1\" class=\"node\"><title>0</title>\r\n",
       "<path fill=\"#e9fcf1\" stroke=\"black\" d=\"M355.5,-425C355.5,-425 219.5,-425 219.5,-425 213.5,-425 207.5,-419 207.5,-413 207.5,-413 207.5,-354 207.5,-354 207.5,-348 213.5,-342 219.5,-342 219.5,-342 355.5,-342 355.5,-342 361.5,-342 367.5,-348 367.5,-354 367.5,-354 367.5,-413 367.5,-413 367.5,-419 361.5,-425 355.5,-425\"/>\r\n",
       "<text text-anchor=\"middle\" x=\"287.5\" y=\"-409.8\" font-family=\"Helvetica,sans-Serif\" font-size=\"14.00\">color_intensity &lt;= 3.82</text>\r\n",
       "<text text-anchor=\"middle\" x=\"287.5\" y=\"-394.8\" font-family=\"Helvetica,sans-Serif\" font-size=\"14.00\">gini = 0.661</text>\r\n",
       "<text text-anchor=\"middle\" x=\"287.5\" y=\"-379.8\" font-family=\"Helvetica,sans-Serif\" font-size=\"14.00\">samples = 142</text>\r\n",
       "<text text-anchor=\"middle\" x=\"287.5\" y=\"-364.8\" font-family=\"Helvetica,sans-Serif\" font-size=\"14.00\">value = [45, 56, 41]</text>\r\n",
       "<text text-anchor=\"middle\" x=\"287.5\" y=\"-349.8\" font-family=\"Helvetica,sans-Serif\" font-size=\"14.00\">class = class_1</text>\r\n",
       "</g>\r\n",
       "<!-- 1 -->\r\n",
       "<g id=\"node2\" class=\"node\"><title>1</title>\r\n",
       "<path fill=\"#45e789\" stroke=\"black\" d=\"M273.5,-306C273.5,-306 137.5,-306 137.5,-306 131.5,-306 125.5,-300 125.5,-294 125.5,-294 125.5,-235 125.5,-235 125.5,-229 131.5,-223 137.5,-223 137.5,-223 273.5,-223 273.5,-223 279.5,-223 285.5,-229 285.5,-235 285.5,-235 285.5,-294 285.5,-294 285.5,-300 279.5,-306 273.5,-306\"/>\r\n",
       "<text text-anchor=\"middle\" x=\"205.5\" y=\"-290.8\" font-family=\"Helvetica,sans-Serif\" font-size=\"14.00\">color_intensity &lt;= 3.46</text>\r\n",
       "<text text-anchor=\"middle\" x=\"205.5\" y=\"-275.8\" font-family=\"Helvetica,sans-Serif\" font-size=\"14.00\">gini = 0.111</text>\r\n",
       "<text text-anchor=\"middle\" x=\"205.5\" y=\"-260.8\" font-family=\"Helvetica,sans-Serif\" font-size=\"14.00\">samples = 51</text>\r\n",
       "<text text-anchor=\"middle\" x=\"205.5\" y=\"-245.8\" font-family=\"Helvetica,sans-Serif\" font-size=\"14.00\">value = [3, 48, 0]</text>\r\n",
       "<text text-anchor=\"middle\" x=\"205.5\" y=\"-230.8\" font-family=\"Helvetica,sans-Serif\" font-size=\"14.00\">class = class_1</text>\r\n",
       "</g>\r\n",
       "<!-- 0&#45;&gt;1 -->\r\n",
       "<g id=\"edge1\" class=\"edge\"><title>0&#45;&gt;1</title>\r\n",
       "<path fill=\"none\" stroke=\"black\" d=\"M259.051,-341.907C252.817,-333.014 246.156,-323.509 239.723,-314.331\"/>\r\n",
       "<polygon fill=\"black\" stroke=\"black\" points=\"242.505,-312.201 233.899,-306.021 236.772,-316.219 242.505,-312.201\"/>\r\n",
       "<text text-anchor=\"middle\" x=\"229.569\" y=\"-326.943\" font-family=\"Helvetica,sans-Serif\" font-size=\"14.00\">True</text>\r\n",
       "</g>\r\n",
       "<!-- 6 -->\r\n",
       "<g id=\"node7\" class=\"node\"><title>6</title>\r\n",
       "<path fill=\"#fefcfb\" stroke=\"black\" d=\"M425,-306C425,-306 316,-306 316,-306 310,-306 304,-300 304,-294 304,-294 304,-235 304,-235 304,-229 310,-223 316,-223 316,-223 425,-223 425,-223 431,-223 437,-229 437,-235 437,-235 437,-294 437,-294 437,-300 431,-306 425,-306\"/>\r\n",
       "<text text-anchor=\"middle\" x=\"370.5\" y=\"-290.8\" font-family=\"Helvetica,sans-Serif\" font-size=\"14.00\">flavanoids &lt;= 1.58</text>\r\n",
       "<text text-anchor=\"middle\" x=\"370.5\" y=\"-275.8\" font-family=\"Helvetica,sans-Serif\" font-size=\"14.00\">gini = 0.576</text>\r\n",
       "<text text-anchor=\"middle\" x=\"370.5\" y=\"-260.8\" font-family=\"Helvetica,sans-Serif\" font-size=\"14.00\">samples = 91</text>\r\n",
       "<text text-anchor=\"middle\" x=\"370.5\" y=\"-245.8\" font-family=\"Helvetica,sans-Serif\" font-size=\"14.00\">value = [42, 8, 41]</text>\r\n",
       "<text text-anchor=\"middle\" x=\"370.5\" y=\"-230.8\" font-family=\"Helvetica,sans-Serif\" font-size=\"14.00\">class = class_0</text>\r\n",
       "</g>\r\n",
       "<!-- 0&#45;&gt;6 -->\r\n",
       "<g id=\"edge6\" class=\"edge\"><title>0&#45;&gt;6</title>\r\n",
       "<path fill=\"none\" stroke=\"black\" d=\"M316.296,-341.907C322.606,-333.014 329.348,-323.509 335.859,-314.331\"/>\r\n",
       "<polygon fill=\"black\" stroke=\"black\" points=\"338.823,-316.202 341.754,-306.021 333.114,-312.152 338.823,-316.202\"/>\r\n",
       "<text text-anchor=\"middle\" x=\"345.944\" y=\"-326.967\" font-family=\"Helvetica,sans-Serif\" font-size=\"14.00\">False</text>\r\n",
       "</g>\r\n",
       "<!-- 2 -->\r\n",
       "<g id=\"node3\" class=\"node\"><title>2</title>\r\n",
       "<path fill=\"#39e581\" stroke=\"black\" d=\"M109,-179.5C109,-179.5 12,-179.5 12,-179.5 6,-179.5 0,-173.5 0,-167.5 0,-167.5 0,-123.5 0,-123.5 0,-117.5 6,-111.5 12,-111.5 12,-111.5 109,-111.5 109,-111.5 115,-111.5 121,-117.5 121,-123.5 121,-123.5 121,-167.5 121,-167.5 121,-173.5 115,-179.5 109,-179.5\"/>\r\n",
       "<text text-anchor=\"middle\" x=\"60.5\" y=\"-164.3\" font-family=\"Helvetica,sans-Serif\" font-size=\"14.00\">gini = 0.0</text>\r\n",
       "<text text-anchor=\"middle\" x=\"60.5\" y=\"-149.3\" font-family=\"Helvetica,sans-Serif\" font-size=\"14.00\">samples = 44</text>\r\n",
       "<text text-anchor=\"middle\" x=\"60.5\" y=\"-134.3\" font-family=\"Helvetica,sans-Serif\" font-size=\"14.00\">value = [0, 44, 0]</text>\r\n",
       "<text text-anchor=\"middle\" x=\"60.5\" y=\"-119.3\" font-family=\"Helvetica,sans-Serif\" font-size=\"14.00\">class = class_1</text>\r\n",
       "</g>\r\n",
       "<!-- 1&#45;&gt;2 -->\r\n",
       "<g id=\"edge2\" class=\"edge\"><title>1&#45;&gt;2</title>\r\n",
       "<path fill=\"none\" stroke=\"black\" d=\"M155.193,-222.907C140.424,-210.99 124.295,-197.976 109.602,-186.12\"/>\r\n",
       "<polygon fill=\"black\" stroke=\"black\" points=\"111.585,-183.223 101.604,-179.667 107.189,-188.67 111.585,-183.223\"/>\r\n",
       "</g>\r\n",
       "<!-- 3 -->\r\n",
       "<g id=\"node4\" class=\"node\"><title>3</title>\r\n",
       "<path fill=\"#cef8e0\" stroke=\"black\" d=\"M268,-187C268,-187 151,-187 151,-187 145,-187 139,-181 139,-175 139,-175 139,-116 139,-116 139,-110 145,-104 151,-104 151,-104 268,-104 268,-104 274,-104 280,-110 280,-116 280,-116 280,-175 280,-175 280,-181 274,-187 268,-187\"/>\r\n",
       "<text text-anchor=\"middle\" x=\"209.5\" y=\"-171.8\" font-family=\"Helvetica,sans-Serif\" font-size=\"14.00\">flavanoids &lt;= 2.225</text>\r\n",
       "<text text-anchor=\"middle\" x=\"209.5\" y=\"-156.8\" font-family=\"Helvetica,sans-Serif\" font-size=\"14.00\">gini = 0.49</text>\r\n",
       "<text text-anchor=\"middle\" x=\"209.5\" y=\"-141.8\" font-family=\"Helvetica,sans-Serif\" font-size=\"14.00\">samples = 7</text>\r\n",
       "<text text-anchor=\"middle\" x=\"209.5\" y=\"-126.8\" font-family=\"Helvetica,sans-Serif\" font-size=\"14.00\">value = [3, 4, 0]</text>\r\n",
       "<text text-anchor=\"middle\" x=\"209.5\" y=\"-111.8\" font-family=\"Helvetica,sans-Serif\" font-size=\"14.00\">class = class_1</text>\r\n",
       "</g>\r\n",
       "<!-- 1&#45;&gt;3 -->\r\n",
       "<g id=\"edge3\" class=\"edge\"><title>1&#45;&gt;3</title>\r\n",
       "<path fill=\"none\" stroke=\"black\" d=\"M206.888,-222.907C207.173,-214.558 207.477,-205.671 207.773,-197.02\"/>\r\n",
       "<polygon fill=\"black\" stroke=\"black\" points=\"211.271,-197.135 208.115,-187.021 204.275,-196.895 211.271,-197.135\"/>\r\n",
       "</g>\r\n",
       "<!-- 4 -->\r\n",
       "<g id=\"node5\" class=\"node\"><title>4</title>\r\n",
       "<path fill=\"#39e581\" stroke=\"black\" d=\"M168,-68C168,-68 77,-68 77,-68 71,-68 65,-62 65,-56 65,-56 65,-12 65,-12 65,-6 71,-0 77,-0 77,-0 168,-0 168,-0 174,-0 180,-6 180,-12 180,-12 180,-56 180,-56 180,-62 174,-68 168,-68\"/>\r\n",
       "<text text-anchor=\"middle\" x=\"122.5\" y=\"-52.8\" font-family=\"Helvetica,sans-Serif\" font-size=\"14.00\">gini = 0.0</text>\r\n",
       "<text text-anchor=\"middle\" x=\"122.5\" y=\"-37.8\" font-family=\"Helvetica,sans-Serif\" font-size=\"14.00\">samples = 4</text>\r\n",
       "<text text-anchor=\"middle\" x=\"122.5\" y=\"-22.8\" font-family=\"Helvetica,sans-Serif\" font-size=\"14.00\">value = [0, 4, 0]</text>\r\n",
       "<text text-anchor=\"middle\" x=\"122.5\" y=\"-7.8\" font-family=\"Helvetica,sans-Serif\" font-size=\"14.00\">class = class_1</text>\r\n",
       "</g>\r\n",
       "<!-- 3&#45;&gt;4 -->\r\n",
       "<g id=\"edge4\" class=\"edge\"><title>3&#45;&gt;4</title>\r\n",
       "<path fill=\"none\" stroke=\"black\" d=\"M177.104,-103.726C170.003,-94.7878 162.478,-85.3168 155.358,-76.3558\"/>\r\n",
       "<polygon fill=\"black\" stroke=\"black\" points=\"157.918,-73.9519 148.957,-68.2996 152.438,-78.3065 157.918,-73.9519\"/>\r\n",
       "</g>\r\n",
       "<!-- 5 -->\r\n",
       "<g id=\"node6\" class=\"node\"><title>5</title>\r\n",
       "<path fill=\"#e58139\" stroke=\"black\" d=\"M301,-68C301,-68 210,-68 210,-68 204,-68 198,-62 198,-56 198,-56 198,-12 198,-12 198,-6 204,-0 210,-0 210,-0 301,-0 301,-0 307,-0 313,-6 313,-12 313,-12 313,-56 313,-56 313,-62 307,-68 301,-68\"/>\r\n",
       "<text text-anchor=\"middle\" x=\"255.5\" y=\"-52.8\" font-family=\"Helvetica,sans-Serif\" font-size=\"14.00\">gini = 0.0</text>\r\n",
       "<text text-anchor=\"middle\" x=\"255.5\" y=\"-37.8\" font-family=\"Helvetica,sans-Serif\" font-size=\"14.00\">samples = 3</text>\r\n",
       "<text text-anchor=\"middle\" x=\"255.5\" y=\"-22.8\" font-family=\"Helvetica,sans-Serif\" font-size=\"14.00\">value = [3, 0, 0]</text>\r\n",
       "<text text-anchor=\"middle\" x=\"255.5\" y=\"-7.8\" font-family=\"Helvetica,sans-Serif\" font-size=\"14.00\">class = class_0</text>\r\n",
       "</g>\r\n",
       "<!-- 3&#45;&gt;5 -->\r\n",
       "<g id=\"edge5\" class=\"edge\"><title>3&#45;&gt;5</title>\r\n",
       "<path fill=\"none\" stroke=\"black\" d=\"M226.629,-103.726C230.192,-95.2439 233.957,-86.2819 237.549,-77.7312\"/>\r\n",
       "<polygon fill=\"black\" stroke=\"black\" points=\"240.865,-78.8747 241.511,-68.2996 234.411,-76.1635 240.865,-78.8747\"/>\r\n",
       "</g>\r\n",
       "<!-- 7 -->\r\n",
       "<g id=\"node8\" class=\"node\"><title>7</title>\r\n",
       "<path fill=\"#8139e5\" stroke=\"black\" d=\"M415,-179.5C415,-179.5 318,-179.5 318,-179.5 312,-179.5 306,-173.5 306,-167.5 306,-167.5 306,-123.5 306,-123.5 306,-117.5 312,-111.5 318,-111.5 318,-111.5 415,-111.5 415,-111.5 421,-111.5 427,-117.5 427,-123.5 427,-123.5 427,-167.5 427,-167.5 427,-173.5 421,-179.5 415,-179.5\"/>\r\n",
       "<text text-anchor=\"middle\" x=\"366.5\" y=\"-164.3\" font-family=\"Helvetica,sans-Serif\" font-size=\"14.00\">gini = 0.0</text>\r\n",
       "<text text-anchor=\"middle\" x=\"366.5\" y=\"-149.3\" font-family=\"Helvetica,sans-Serif\" font-size=\"14.00\">samples = 41</text>\r\n",
       "<text text-anchor=\"middle\" x=\"366.5\" y=\"-134.3\" font-family=\"Helvetica,sans-Serif\" font-size=\"14.00\">value = [0, 0, 41]</text>\r\n",
       "<text text-anchor=\"middle\" x=\"366.5\" y=\"-119.3\" font-family=\"Helvetica,sans-Serif\" font-size=\"14.00\">class = class_2</text>\r\n",
       "</g>\r\n",
       "<!-- 6&#45;&gt;7 -->\r\n",
       "<g id=\"edge7\" class=\"edge\"><title>6&#45;&gt;7</title>\r\n",
       "<path fill=\"none\" stroke=\"black\" d=\"M369.112,-222.907C368.746,-212.204 368.35,-200.615 367.98,-189.776\"/>\r\n",
       "<polygon fill=\"black\" stroke=\"black\" points=\"371.474,-189.541 367.634,-179.667 364.478,-189.781 371.474,-189.541\"/>\r\n",
       "</g>\r\n",
       "<!-- 8 -->\r\n",
       "<g id=\"node9\" class=\"node\"><title>8</title>\r\n",
       "<path fill=\"#ea995f\" stroke=\"black\" d=\"M566,-187C566,-187 457,-187 457,-187 451,-187 445,-181 445,-175 445,-175 445,-116 445,-116 445,-110 451,-104 457,-104 457,-104 566,-104 566,-104 572,-104 578,-110 578,-116 578,-116 578,-175 578,-175 578,-181 572,-187 566,-187\"/>\r\n",
       "<text text-anchor=\"middle\" x=\"511.5\" y=\"-171.8\" font-family=\"Helvetica,sans-Serif\" font-size=\"14.00\">flavanoids &lt;= 2.11</text>\r\n",
       "<text text-anchor=\"middle\" x=\"511.5\" y=\"-156.8\" font-family=\"Helvetica,sans-Serif\" font-size=\"14.00\">gini = 0.269</text>\r\n",
       "<text text-anchor=\"middle\" x=\"511.5\" y=\"-141.8\" font-family=\"Helvetica,sans-Serif\" font-size=\"14.00\">samples = 50</text>\r\n",
       "<text text-anchor=\"middle\" x=\"511.5\" y=\"-126.8\" font-family=\"Helvetica,sans-Serif\" font-size=\"14.00\">value = [42, 8, 0]</text>\r\n",
       "<text text-anchor=\"middle\" x=\"511.5\" y=\"-111.8\" font-family=\"Helvetica,sans-Serif\" font-size=\"14.00\">class = class_0</text>\r\n",
       "</g>\r\n",
       "<!-- 6&#45;&gt;8 -->\r\n",
       "<g id=\"edge8\" class=\"edge\"><title>6&#45;&gt;8</title>\r\n",
       "<path fill=\"none\" stroke=\"black\" d=\"M419.419,-222.907C430.793,-213.469 442.997,-203.343 454.679,-193.649\"/>\r\n",
       "<polygon fill=\"black\" stroke=\"black\" points=\"457.207,-196.1 462.667,-187.021 452.737,-190.713 457.207,-196.1\"/>\r\n",
       "</g>\r\n",
       "<!-- 9 -->\r\n",
       "<g id=\"node10\" class=\"node\"><title>9</title>\r\n",
       "<path fill=\"#39e581\" stroke=\"black\" d=\"M489,-68C489,-68 398,-68 398,-68 392,-68 386,-62 386,-56 386,-56 386,-12 386,-12 386,-6 392,-0 398,-0 398,-0 489,-0 489,-0 495,-0 501,-6 501,-12 501,-12 501,-56 501,-56 501,-62 495,-68 489,-68\"/>\r\n",
       "<text text-anchor=\"middle\" x=\"443.5\" y=\"-52.8\" font-family=\"Helvetica,sans-Serif\" font-size=\"14.00\">gini = 0.0</text>\r\n",
       "<text text-anchor=\"middle\" x=\"443.5\" y=\"-37.8\" font-family=\"Helvetica,sans-Serif\" font-size=\"14.00\">samples = 3</text>\r\n",
       "<text text-anchor=\"middle\" x=\"443.5\" y=\"-22.8\" font-family=\"Helvetica,sans-Serif\" font-size=\"14.00\">value = [0, 3, 0]</text>\r\n",
       "<text text-anchor=\"middle\" x=\"443.5\" y=\"-7.8\" font-family=\"Helvetica,sans-Serif\" font-size=\"14.00\">class = class_1</text>\r\n",
       "</g>\r\n",
       "<!-- 8&#45;&gt;9 -->\r\n",
       "<g id=\"edge9\" class=\"edge\"><title>8&#45;&gt;9</title>\r\n",
       "<path fill=\"none\" stroke=\"black\" d=\"M486.179,-103.726C480.742,-94.9703 474.987,-85.7032 469.523,-76.9051\"/>\r\n",
       "<polygon fill=\"black\" stroke=\"black\" points=\"472.428,-74.9484 464.179,-68.2996 466.481,-78.6413 472.428,-74.9484\"/>\r\n",
       "</g>\r\n",
       "<!-- 10 -->\r\n",
       "<g id=\"node11\" class=\"node\"><title>10</title>\r\n",
       "<path fill=\"#e89051\" stroke=\"black\" d=\"M628,-68C628,-68 531,-68 531,-68 525,-68 519,-62 519,-56 519,-56 519,-12 519,-12 519,-6 525,-0 531,-0 531,-0 628,-0 628,-0 634,-0 640,-6 640,-12 640,-12 640,-56 640,-56 640,-62 634,-68 628,-68\"/>\r\n",
       "<text text-anchor=\"middle\" x=\"579.5\" y=\"-52.8\" font-family=\"Helvetica,sans-Serif\" font-size=\"14.00\">gini = 0.19</text>\r\n",
       "<text text-anchor=\"middle\" x=\"579.5\" y=\"-37.8\" font-family=\"Helvetica,sans-Serif\" font-size=\"14.00\">samples = 47</text>\r\n",
       "<text text-anchor=\"middle\" x=\"579.5\" y=\"-22.8\" font-family=\"Helvetica,sans-Serif\" font-size=\"14.00\">value = [42, 5, 0]</text>\r\n",
       "<text text-anchor=\"middle\" x=\"579.5\" y=\"-7.8\" font-family=\"Helvetica,sans-Serif\" font-size=\"14.00\">class = class_0</text>\r\n",
       "</g>\r\n",
       "<!-- 8&#45;&gt;10 -->\r\n",
       "<g id=\"edge10\" class=\"edge\"><title>8&#45;&gt;10</title>\r\n",
       "<path fill=\"none\" stroke=\"black\" d=\"M536.821,-103.726C542.258,-94.9703 548.013,-85.7032 553.477,-76.9051\"/>\r\n",
       "<polygon fill=\"black\" stroke=\"black\" points=\"556.519,-78.6413 558.821,-68.2996 550.572,-74.9484 556.519,-78.6413\"/>\r\n",
       "</g>\r\n",
       "</g>\r\n",
       "</svg>\r\n"
      ],
      "text/plain": [
       "<graphviz.files.Source at 0x192e76e35e0>"
      ]
     },
     "execution_count": 16,
     "metadata": {},
     "output_type": "execute_result"
    }
   ],
   "source": [
    "export_graphviz(\n",
    "        clf_2features,\n",
    "        out_file=os.path.join(IMAGES_PATH, \"wine_tree2.dot\"),\n",
    "        feature_names=['flavanoids', 'color_intensity'],\n",
    "        class_names=wine.target_names,\n",
    "        rounded=True,\n",
    "        filled=True\n",
    "    )\n",
    "Source.from_file(os.path.join(IMAGES_PATH, \"wine_tree2.dot\"))"
   ]
  },
  {
   "cell_type": "markdown",
   "metadata": {},
   "source": [
    "# Accuracy (2 features DT)"
   ]
  },
  {
   "cell_type": "code",
   "execution_count": 13,
   "metadata": {
    "id": "Q3KNtrtPjAt4"
   },
   "outputs": [
    {
     "name": "stdout",
     "output_type": "stream",
     "text": [
      "train acc: 0.9647887323943662\n",
      "test acc: 0.9166666666666666\n"
     ]
    }
   ],
   "source": [
    "pred_train = clf_2features.predict(X_train)\n",
    "pred_test = clf_2features.predict(X_test)\n",
    "\n",
    "print(f\"train acc: {accuracy_score(pred_train, y_train)}\")\n",
    "print(f\"test acc: {accuracy_score(pred_test, y_test)}\")"
   ]
  },
  {
   "cell_type": "markdown",
   "metadata": {
    "tags": []
   },
   "source": [
    "#### Check Overfitting: Repeated Random Subsampling Validation Method\n",
    "Dataset Split에서 seed값 변화에 따른 테스트셋의 정확도를 출력하였다."
   ]
  },
  {
   "cell_type": "code",
   "execution_count": 14,
   "metadata": {},
   "outputs": [
    {
     "name": "stdout",
     "output_type": "stream",
     "text": [
      "Seed: 0 정확도: 0.8333333333333334\n",
      "Seed: 1 정확도: 0.9722222222222222\n",
      "Seed: 2 정확도: 0.9722222222222222\n",
      "Seed: 3 정확도: 0.9722222222222222\n",
      "Seed: 4 정확도: 0.9722222222222222\n",
      "Seed: 5 정확도: 0.9444444444444444\n",
      "Seed: 6 정확도: 0.9444444444444444\n",
      "Seed: 7 정확도: 0.9444444444444444\n",
      "Seed: 8 정확도: 0.9444444444444444\n",
      "Seed: 9 정확도: 1.0\n"
     ]
    }
   ],
   "source": [
    "for seed in range(10):\n",
    "    X_train, X_test, y_train, y_test = train_test_split(X, y, test_size= 0.2, random_state = seed)    \n",
    "    clf = DecisionTreeClassifier(max_depth= MAX_DEPTH,random_state=42)\n",
    "    clf.fit(X_train,y_train)\n",
    "    pred_test = clf_2features.predict(X_test)\n",
    "    print(f\"Seed: {seed} 정확도: {accuracy_score(pred_test, y_test)}\")"
   ]
  },
  {
   "cell_type": "markdown",
   "metadata": {},
   "source": [
    "* 데이터셋 분할에 따른 테스트셋 정확도에 편차가 확연히 줄었다."
   ]
  },
  {
   "cell_type": "markdown",
   "metadata": {},
   "source": [
    "# Decision Boundary"
   ]
  },
  {
   "cell_type": "code",
   "execution_count": 15,
   "metadata": {
    "colab": {
     "base_uri": "https://localhost:8080/",
     "height": 310
    },
    "id": "bIItNWh1S3Sy",
    "outputId": "36885c68-b211-4d01-dae8-5c1638c95170",
    "tags": []
   },
   "outputs": [
    {
     "data": {
      "text/plain": [
       "<AxesSubplot:xlabel='flavanoids', ylabel='color_intensity'>"
      ]
     },
     "execution_count": 15,
     "metadata": {},
     "output_type": "execute_result"
    },
    {
     "data": {
      "image/png": "[encoded data removed]",
      "text/plain": [
       "<Figure size 576x432 with 1 Axes>"
      ]
     },
     "metadata": {
      "needs_background": "light"
     },
     "output_type": "display_data"
    }
   ],
   "source": [
    "plt.figure(figsize=(8, 6))\n",
    "axes=[0, 5.5, 0, 14]\n",
    "x1s = np.linspace(axes[0], axes[1], 100)\n",
    "x2s = np.linspace(axes[2], axes[3], 100)\n",
    "x1, x2 = np.meshgrid(x1s, x2s)\n",
    "X_new = np.c_[x1.ravel(), x2.ravel()]\n",
    "y_pred = clf_2features.predict(X_new).reshape(x1.shape)\n",
    "plt.contourf(x1, x2, y_pred, alpha=0.3)\n",
    "sns.scatterplot(data=df, x='flavanoids', y=\"color_intensity\", hue= \"label\")"
   ]
  }
 ],
 "metadata": {
  "colab": {
   "collapsed_sections": [],
   "name": "실습2.ipynb",
   "provenance": []
  },
  "kernelspec": {
   "display_name": "Python 3 (ipykernel)",
   "language": "python",
   "name": "python3"
  },
  "language_info": {
   "codemirror_mode": {
    "name": "ipython",
    "version": 3
   },
   "file_extension": ".py",
   "mimetype": "text/x-python",
   "name": "python",
   "nbconvert_exporter": "python",
   "pygments_lexer": "ipython3",
   "version": "3.8.8"
  }
 },
 "nbformat": 4,
 "nbformat_minor": 4
}
